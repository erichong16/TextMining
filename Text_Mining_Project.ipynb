{
  "nbformat": 4,
  "nbformat_minor": 0,
  "metadata": {
    "colab": {
      "name": "Text Mining Project.ipynb",
      "provenance": [],
      "collapsed_sections": [],
      "toc_visible": true
    },
    "kernelspec": {
      "display_name": "Python 3",
      "name": "python3"
    }
  },
  "cells": [
    {
      "cell_type": "markdown",
      "metadata": {
        "id": "yYZnZP9fQPrg"
      },
      "source": [
        "# **Description of the dataset**"
      ]
    },
    {
      "cell_type": "markdown",
      "metadata": {
        "id": "fMijzt1OHcW-"
      },
      "source": [
        "Dataset - Big Kickstarter.         \n",
        "Columns - product blurb and state (successful/fail)\n",
        "\n",
        "Objective - we need to conduct analysis on product blurbs and what keywords determine if a product is successful or not on kickstarter. Also, whether the wordiness of a product blurb may affect a product to be successful or not successful.  "
      ]
    },
    {
      "cell_type": "code",
      "metadata": {
        "id": "iEWvNiBmI3Be",
        "colab": {
          "base_uri": "https://localhost:8080/"
        },
        "outputId": "ef585d42-f879-4274-c717-af58c57d7113"
      },
      "source": [
        "#Mounting Google Drive to pass on documents easier\n",
        "from google.colab import drive\n",
        "drive.mount('/content/drive')"
      ],
      "execution_count": null,
      "outputs": [
        {
          "output_type": "stream",
          "text": [
            "Mounted at /content/drive\n"
          ],
          "name": "stdout"
        }
      ]
    },
    {
      "cell_type": "markdown",
      "metadata": {
        "id": "EAoG3loeXCcp"
      },
      "source": [
        "# **1.Examine the dataset**"
      ]
    },
    {
      "cell_type": "code",
      "metadata": {
        "id": "7_-58CoMvkQ9"
      },
      "source": [
        "import pandas as pd\n",
        "big_kickstarter = pd.read_csv('/content/drive/MyDrive/Colab Notebooks/big kickstarter data 2.csv')\n",
        "#big_kickstarter = pd.read_csv('/content/big kickstarter data 2.csv')"
      ],
      "execution_count": null,
      "outputs": []
    },
    {
      "cell_type": "code",
      "metadata": {
        "id": "6VYSO3LAwaX9",
        "colab": {
          "base_uri": "https://localhost:8080/"
        },
        "outputId": "f9daa460-9fd1-42bf-d341-5a730db04e19"
      },
      "source": [
        "big_kickstarter.shape"
      ],
      "execution_count": null,
      "outputs": [
        {
          "output_type": "execute_result",
          "data": {
            "text/plain": [
              "(215513, 3)"
            ]
          },
          "metadata": {
            "tags": []
          },
          "execution_count": 3
        }
      ]
    },
    {
      "cell_type": "code",
      "metadata": {
        "id": "RO4yyAMWwdgH",
        "colab": {
          "base_uri": "https://localhost:8080/",
          "height": 204
        },
        "outputId": "a1e867cc-2713-40a7-f56e-e382ff412d92"
      },
      "source": [
        "big_kickstarter.head()"
      ],
      "execution_count": null,
      "outputs": [
        {
          "output_type": "execute_result",
          "data": {
            "text/html": [
              "<div>\n",
              "<style scoped>\n",
              "    .dataframe tbody tr th:only-of-type {\n",
              "        vertical-align: middle;\n",
              "    }\n",
              "\n",
              "    .dataframe tbody tr th {\n",
              "        vertical-align: top;\n",
              "    }\n",
              "\n",
              "    .dataframe thead th {\n",
              "        text-align: right;\n",
              "    }\n",
              "</style>\n",
              "<table border=\"1\" class=\"dataframe\">\n",
              "  <thead>\n",
              "    <tr style=\"text-align: right;\">\n",
              "      <th></th>\n",
              "      <th>Unnamed: 0</th>\n",
              "      <th>blurb</th>\n",
              "      <th>state</th>\n",
              "    </tr>\n",
              "  </thead>\n",
              "  <tbody>\n",
              "    <tr>\n",
              "      <th>0</th>\n",
              "      <td>1</td>\n",
              "      <td>Using their own character, users go on educati...</td>\n",
              "      <td>failed</td>\n",
              "    </tr>\n",
              "    <tr>\n",
              "      <th>1</th>\n",
              "      <td>2</td>\n",
              "      <td>MicroFly is a quadcopter packed with WiFi, 6 s...</td>\n",
              "      <td>successful</td>\n",
              "    </tr>\n",
              "    <tr>\n",
              "      <th>2</th>\n",
              "      <td>3</td>\n",
              "      <td>A small indie press, run as a collective for a...</td>\n",
              "      <td>failed</td>\n",
              "    </tr>\n",
              "    <tr>\n",
              "      <th>3</th>\n",
              "      <td>4</td>\n",
              "      <td>Zylor is a new baby cosplayer! Back this kicks...</td>\n",
              "      <td>failed</td>\n",
              "    </tr>\n",
              "    <tr>\n",
              "      <th>4</th>\n",
              "      <td>5</td>\n",
              "      <td>Hatoful Boyfriend meet Skeletons! A comedy Dat...</td>\n",
              "      <td>failed</td>\n",
              "    </tr>\n",
              "  </tbody>\n",
              "</table>\n",
              "</div>"
            ],
            "text/plain": [
              "   Unnamed: 0                                              blurb       state\n",
              "0           1  Using their own character, users go on educati...      failed\n",
              "1           2  MicroFly is a quadcopter packed with WiFi, 6 s...  successful\n",
              "2           3  A small indie press, run as a collective for a...      failed\n",
              "3           4  Zylor is a new baby cosplayer! Back this kicks...      failed\n",
              "4           5  Hatoful Boyfriend meet Skeletons! A comedy Dat...      failed"
            ]
          },
          "metadata": {
            "tags": []
          },
          "execution_count": 4
        }
      ]
    },
    {
      "cell_type": "code",
      "metadata": {
        "id": "qyjkwLR2YTwq",
        "colab": {
          "base_uri": "https://localhost:8080/",
          "height": 35
        },
        "outputId": "e903159a-d733-43c6-a809-c336387ccb00"
      },
      "source": [
        "#Check the first blurb\n",
        "big_kickstarter.loc[0, 'blurb']"
      ],
      "execution_count": null,
      "outputs": [
        {
          "output_type": "execute_result",
          "data": {
            "application/vnd.google.colaboratory.intrinsic+json": {
              "type": "string"
            },
            "text/plain": [
              "'Using their own character, users go on educational quests around a virtual world leveling up subject-oriented skills (ie Physics).'"
            ]
          },
          "metadata": {
            "tags": []
          },
          "execution_count": 5
        }
      ]
    },
    {
      "cell_type": "code",
      "metadata": {
        "id": "xwHJmqKaInAK",
        "colab": {
          "base_uri": "https://localhost:8080/",
          "height": 419
        },
        "outputId": "57df9dc6-cdc2-44e1-ef20-74a15dde3bd4"
      },
      "source": [
        "#Examine the blurbs that are successful\n",
        "big_kickstarter[big_kickstarter.state == \"successful\"]"
      ],
      "execution_count": null,
      "outputs": [
        {
          "output_type": "execute_result",
          "data": {
            "text/html": [
              "<div>\n",
              "<style scoped>\n",
              "    .dataframe tbody tr th:only-of-type {\n",
              "        vertical-align: middle;\n",
              "    }\n",
              "\n",
              "    .dataframe tbody tr th {\n",
              "        vertical-align: top;\n",
              "    }\n",
              "\n",
              "    .dataframe thead th {\n",
              "        text-align: right;\n",
              "    }\n",
              "</style>\n",
              "<table border=\"1\" class=\"dataframe\">\n",
              "  <thead>\n",
              "    <tr style=\"text-align: right;\">\n",
              "      <th></th>\n",
              "      <th>Unnamed: 0</th>\n",
              "      <th>blurb</th>\n",
              "      <th>state</th>\n",
              "    </tr>\n",
              "  </thead>\n",
              "  <tbody>\n",
              "    <tr>\n",
              "      <th>1</th>\n",
              "      <td>2</td>\n",
              "      <td>MicroFly is a quadcopter packed with WiFi, 6 s...</td>\n",
              "      <td>successful</td>\n",
              "    </tr>\n",
              "    <tr>\n",
              "      <th>182</th>\n",
              "      <td>183</td>\n",
              "      <td>Meow!! Cat Box is a simple and clever card gam...</td>\n",
              "      <td>successful</td>\n",
              "    </tr>\n",
              "    <tr>\n",
              "      <th>183</th>\n",
              "      <td>184</td>\n",
              "      <td>A fast, fun, easy-to-learn, and easy-to-play s...</td>\n",
              "      <td>successful</td>\n",
              "    </tr>\n",
              "    <tr>\n",
              "      <th>184</th>\n",
              "      <td>185</td>\n",
              "      <td>An awesome place to play games, make friends a...</td>\n",
              "      <td>successful</td>\n",
              "    </tr>\n",
              "    <tr>\n",
              "      <th>185</th>\n",
              "      <td>186</td>\n",
              "      <td>Trenchworx is excited to launch our third Kick...</td>\n",
              "      <td>successful</td>\n",
              "    </tr>\n",
              "    <tr>\n",
              "      <th>...</th>\n",
              "      <td>...</td>\n",
              "      <td>...</td>\n",
              "      <td>...</td>\n",
              "    </tr>\n",
              "    <tr>\n",
              "      <th>215154</th>\n",
              "      <td>215155</td>\n",
              "      <td>SMFA students take on collaborative art projec...</td>\n",
              "      <td>successful</td>\n",
              "    </tr>\n",
              "    <tr>\n",
              "      <th>215155</th>\n",
              "      <td>215156</td>\n",
              "      <td>Between Cities Installation AND Jen Grabarczyk...</td>\n",
              "      <td>successful</td>\n",
              "    </tr>\n",
              "    <tr>\n",
              "      <th>215156</th>\n",
              "      <td>215157</td>\n",
              "      <td>An interdisciplinary art project in the Svalba...</td>\n",
              "      <td>successful</td>\n",
              "    </tr>\n",
              "    <tr>\n",
              "      <th>215157</th>\n",
              "      <td>215158</td>\n",
              "      <td>This is a great poetry book that includes art ...</td>\n",
              "      <td>successful</td>\n",
              "    </tr>\n",
              "    <tr>\n",
              "      <th>215158</th>\n",
              "      <td>215159</td>\n",
              "      <td>What is a friendship worth? Brian Feldman exam...</td>\n",
              "      <td>successful</td>\n",
              "    </tr>\n",
              "  </tbody>\n",
              "</table>\n",
              "<p>108310 rows × 3 columns</p>\n",
              "</div>"
            ],
            "text/plain": [
              "        Unnamed: 0  ...       state\n",
              "1                2  ...  successful\n",
              "182            183  ...  successful\n",
              "183            184  ...  successful\n",
              "184            185  ...  successful\n",
              "185            186  ...  successful\n",
              "...            ...  ...         ...\n",
              "215154      215155  ...  successful\n",
              "215155      215156  ...  successful\n",
              "215156      215157  ...  successful\n",
              "215157      215158  ...  successful\n",
              "215158      215159  ...  successful\n",
              "\n",
              "[108310 rows x 3 columns]"
            ]
          },
          "metadata": {
            "tags": []
          },
          "execution_count": 6
        }
      ]
    },
    {
      "cell_type": "code",
      "metadata": {
        "colab": {
          "base_uri": "https://localhost:8080/",
          "height": 419
        },
        "id": "ued7xxKcE0n7",
        "outputId": "138d1bce-7d23-4bdb-a0e9-f3545c99bd5b"
      },
      "source": [
        "big_kickstarter[big_kickstarter.state == \"failed\"]"
      ],
      "execution_count": null,
      "outputs": [
        {
          "output_type": "execute_result",
          "data": {
            "text/html": [
              "<div>\n",
              "<style scoped>\n",
              "    .dataframe tbody tr th:only-of-type {\n",
              "        vertical-align: middle;\n",
              "    }\n",
              "\n",
              "    .dataframe tbody tr th {\n",
              "        vertical-align: top;\n",
              "    }\n",
              "\n",
              "    .dataframe thead th {\n",
              "        text-align: right;\n",
              "    }\n",
              "</style>\n",
              "<table border=\"1\" class=\"dataframe\">\n",
              "  <thead>\n",
              "    <tr style=\"text-align: right;\">\n",
              "      <th></th>\n",
              "      <th>Unnamed: 0</th>\n",
              "      <th>blurb</th>\n",
              "      <th>state</th>\n",
              "    </tr>\n",
              "  </thead>\n",
              "  <tbody>\n",
              "    <tr>\n",
              "      <th>0</th>\n",
              "      <td>1</td>\n",
              "      <td>Using their own character, users go on educati...</td>\n",
              "      <td>failed</td>\n",
              "    </tr>\n",
              "    <tr>\n",
              "      <th>2</th>\n",
              "      <td>3</td>\n",
              "      <td>A small indie press, run as a collective for a...</td>\n",
              "      <td>failed</td>\n",
              "    </tr>\n",
              "    <tr>\n",
              "      <th>3</th>\n",
              "      <td>4</td>\n",
              "      <td>Zylor is a new baby cosplayer! Back this kicks...</td>\n",
              "      <td>failed</td>\n",
              "    </tr>\n",
              "    <tr>\n",
              "      <th>4</th>\n",
              "      <td>5</td>\n",
              "      <td>Hatoful Boyfriend meet Skeletons! A comedy Dat...</td>\n",
              "      <td>failed</td>\n",
              "    </tr>\n",
              "    <tr>\n",
              "      <th>5</th>\n",
              "      <td>6</td>\n",
              "      <td>FastMan is a Infinite running platformer. Go i...</td>\n",
              "      <td>failed</td>\n",
              "    </tr>\n",
              "    <tr>\n",
              "      <th>...</th>\n",
              "      <td>...</td>\n",
              "      <td>...</td>\n",
              "      <td>...</td>\n",
              "    </tr>\n",
              "    <tr>\n",
              "      <th>215508</th>\n",
              "      <td>215509</td>\n",
              "      <td>This new, designer approach to family wall art...</td>\n",
              "      <td>failed</td>\n",
              "    </tr>\n",
              "    <tr>\n",
              "      <th>215509</th>\n",
              "      <td>215510</td>\n",
              "      <td>Im looking to build a urban youth center to he...</td>\n",
              "      <td>failed</td>\n",
              "    </tr>\n",
              "    <tr>\n",
              "      <th>215510</th>\n",
              "      <td>215511</td>\n",
              "      <td>My plan is to create the most realistic and ac...</td>\n",
              "      <td>failed</td>\n",
              "    </tr>\n",
              "    <tr>\n",
              "      <th>215511</th>\n",
              "      <td>215512</td>\n",
              "      <td>Create unique and fantastic gifts: Mash works ...</td>\n",
              "      <td>failed</td>\n",
              "    </tr>\n",
              "    <tr>\n",
              "      <th>215512</th>\n",
              "      <td>215513</td>\n",
              "      <td>Currently running a shop on Zazzle come and wo...</td>\n",
              "      <td>failed</td>\n",
              "    </tr>\n",
              "  </tbody>\n",
              "</table>\n",
              "<p>107203 rows × 3 columns</p>\n",
              "</div>"
            ],
            "text/plain": [
              "        Unnamed: 0                                              blurb   state\n",
              "0                1  Using their own character, users go on educati...  failed\n",
              "2                3  A small indie press, run as a collective for a...  failed\n",
              "3                4  Zylor is a new baby cosplayer! Back this kicks...  failed\n",
              "4                5  Hatoful Boyfriend meet Skeletons! A comedy Dat...  failed\n",
              "5                6  FastMan is a Infinite running platformer. Go i...  failed\n",
              "...            ...                                                ...     ...\n",
              "215508      215509  This new, designer approach to family wall art...  failed\n",
              "215509      215510  Im looking to build a urban youth center to he...  failed\n",
              "215510      215511  My plan is to create the most realistic and ac...  failed\n",
              "215511      215512  Create unique and fantastic gifts: Mash works ...  failed\n",
              "215512      215513  Currently running a shop on Zazzle come and wo...  failed\n",
              "\n",
              "[107203 rows x 3 columns]"
            ]
          },
          "metadata": {
            "tags": []
          },
          "execution_count": 7
        }
      ]
    },
    {
      "cell_type": "markdown",
      "metadata": {
        "id": "dP8sRDSfFGLE"
      },
      "source": [
        "# **2. Remove Null Values**"
      ]
    },
    {
      "cell_type": "code",
      "metadata": {
        "colab": {
          "base_uri": "https://localhost:8080/"
        },
        "id": "GJYjvVwOMCKC",
        "outputId": "476495f1-e9fe-441c-b6e9-617029a3b594"
      },
      "source": [
        "#Remove the null values\n",
        "big_kickstarter.isnull().sum()"
      ],
      "execution_count": null,
      "outputs": [
        {
          "output_type": "execute_result",
          "data": {
            "text/plain": [
              "Unnamed: 0    0\n",
              "blurb         3\n",
              "state         0\n",
              "dtype: int64"
            ]
          },
          "metadata": {
            "tags": []
          },
          "execution_count": 7
        }
      ]
    },
    {
      "cell_type": "code",
      "metadata": {
        "id": "27XZlOz1MJWX"
      },
      "source": [
        "big_kickstarter.dropna(axis = 0, inplace=True)"
      ],
      "execution_count": null,
      "outputs": []
    },
    {
      "cell_type": "code",
      "metadata": {
        "colab": {
          "base_uri": "https://localhost:8080/"
        },
        "id": "ueg_C6t7MbQL",
        "outputId": "b5d4b339-1241-45d9-edc9-972c1ea7438b"
      },
      "source": [
        "big_kickstarter.isnull().sum()"
      ],
      "execution_count": null,
      "outputs": [
        {
          "output_type": "execute_result",
          "data": {
            "text/plain": [
              "Unnamed: 0    0\n",
              "blurb         0\n",
              "state         0\n",
              "dtype: int64"
            ]
          },
          "metadata": {
            "tags": []
          },
          "execution_count": 9
        }
      ]
    },
    {
      "cell_type": "code",
      "metadata": {
        "colab": {
          "base_uri": "https://localhost:8080/"
        },
        "id": "4Ja-ote2Mdn-",
        "outputId": "dd7713c7-3460-49e9-a28c-a38ea0382f15"
      },
      "source": [
        "big_kickstarter.shape"
      ],
      "execution_count": null,
      "outputs": [
        {
          "output_type": "execute_result",
          "data": {
            "text/plain": [
              "(215510, 3)"
            ]
          },
          "metadata": {
            "tags": []
          },
          "execution_count": 10
        }
      ]
    },
    {
      "cell_type": "code",
      "metadata": {
        "id": "klI4uEWOaHOa"
      },
      "source": [
        "#Binned successful into 1 and failed into 0\n",
        "big_kickstarter.replace(regex={r'failed': 0, r'successful': 1}, inplace = True)"
      ],
      "execution_count": null,
      "outputs": []
    },
    {
      "cell_type": "markdown",
      "metadata": {
        "id": "sdBU1rJVcqMJ"
      },
      "source": [
        "# **3. Removing Stopwords**"
      ]
    },
    {
      "cell_type": "code",
      "metadata": {
        "colab": {
          "base_uri": "https://localhost:8080/"
        },
        "id": "A8qTkFgbaVit",
        "outputId": "1c5721ac-b03c-413d-81fa-c7103ad8b4bc"
      },
      "source": [
        "#importing and downloading NLTK\n",
        "import nltk\n",
        "nltk.download('stopwords')"
      ],
      "execution_count": null,
      "outputs": [
        {
          "output_type": "stream",
          "text": [
            "[nltk_data] Downloading package stopwords to /root/nltk_data...\n",
            "[nltk_data]   Unzipping corpora/stopwords.zip.\n"
          ],
          "name": "stdout"
        },
        {
          "output_type": "execute_result",
          "data": {
            "text/plain": [
              "True"
            ]
          },
          "metadata": {
            "tags": []
          },
          "execution_count": 8
        }
      ]
    },
    {
      "cell_type": "code",
      "metadata": {
        "colab": {
          "base_uri": "https://localhost:8080/"
        },
        "id": "sIfn_l2iabf7",
        "outputId": "ed8fa05b-05da-4b0c-855e-39d701d5f373"
      },
      "source": [
        "big_kickstarter.dtypes"
      ],
      "execution_count": null,
      "outputs": [
        {
          "output_type": "execute_result",
          "data": {
            "text/plain": [
              "Unnamed: 0     int64\n",
              "blurb         object\n",
              "state          int64\n",
              "dtype: object"
            ]
          },
          "metadata": {
            "tags": []
          },
          "execution_count": 13
        }
      ]
    },
    {
      "cell_type": "code",
      "metadata": {
        "id": "U_Szr5T2bWAN"
      },
      "source": [
        "big_kickstarter['blurb'] = big_kickstarter['blurb'].astype(str)"
      ],
      "execution_count": null,
      "outputs": []
    },
    {
      "cell_type": "code",
      "metadata": {
        "colab": {
          "base_uri": "https://localhost:8080/"
        },
        "id": "LEbaJEYuaCkm",
        "outputId": "5f0a1828-852a-44b2-cd1b-25f02e29af1d"
      },
      "source": [
        "#Removing stopwords from text\n",
        "nltk.download('stopwords')\n",
        "from nltk.corpus import stopwords\n",
        "stop_words = stopwords.words('english')\n",
        "\n",
        "def remove_stopwords(text):\n",
        "    textArr = text.split(' ')\n",
        "    rem_text = \" \".join([i for i in textArr if i not in stop_words])\n",
        "    return rem_text"
      ],
      "execution_count": null,
      "outputs": [
        {
          "output_type": "stream",
          "text": [
            "[nltk_data] Downloading package stopwords to /root/nltk_data...\n",
            "[nltk_data]   Package stopwords is already up-to-date!\n"
          ],
          "name": "stdout"
        }
      ]
    },
    {
      "cell_type": "code",
      "metadata": {
        "id": "yr06Tps2FbHx"
      },
      "source": [
        "#Make every blurb lower case\n",
        "big_kickstarter['blurb'] = big_kickstarter['blurb'].str.lower()"
      ],
      "execution_count": null,
      "outputs": []
    },
    {
      "cell_type": "code",
      "metadata": {
        "id": "aDYRu4_nbddN"
      },
      "source": [
        "big_kickstarter['blurb']=big_kickstarter['blurb'].apply(remove_stopwords)"
      ],
      "execution_count": null,
      "outputs": []
    },
    {
      "cell_type": "code",
      "metadata": {
        "colab": {
          "base_uri": "https://localhost:8080/",
          "height": 204
        },
        "id": "7ysEzh2Ycriv",
        "outputId": "18971dac-6c92-4c94-98eb-f0d16a878089"
      },
      "source": [
        "big_kickstarter.head()"
      ],
      "execution_count": null,
      "outputs": [
        {
          "output_type": "execute_result",
          "data": {
            "text/html": [
              "<div>\n",
              "<style scoped>\n",
              "    .dataframe tbody tr th:only-of-type {\n",
              "        vertical-align: middle;\n",
              "    }\n",
              "\n",
              "    .dataframe tbody tr th {\n",
              "        vertical-align: top;\n",
              "    }\n",
              "\n",
              "    .dataframe thead th {\n",
              "        text-align: right;\n",
              "    }\n",
              "</style>\n",
              "<table border=\"1\" class=\"dataframe\">\n",
              "  <thead>\n",
              "    <tr style=\"text-align: right;\">\n",
              "      <th></th>\n",
              "      <th>Unnamed: 0</th>\n",
              "      <th>blurb</th>\n",
              "      <th>state</th>\n",
              "    </tr>\n",
              "  </thead>\n",
              "  <tbody>\n",
              "    <tr>\n",
              "      <th>0</th>\n",
              "      <td>1</td>\n",
              "      <td>using character, users go educational quests a...</td>\n",
              "      <td>0</td>\n",
              "    </tr>\n",
              "    <tr>\n",
              "      <th>1</th>\n",
              "      <td>2</td>\n",
              "      <td>microfly quadcopter packed wifi, 6 sensors, 3 ...</td>\n",
              "      <td>1</td>\n",
              "    </tr>\n",
              "    <tr>\n",
              "      <th>2</th>\n",
              "      <td>3</td>\n",
              "      <td>small indie press, run collective authors want...</td>\n",
              "      <td>0</td>\n",
              "    </tr>\n",
              "    <tr>\n",
              "      <th>3</th>\n",
              "      <td>4</td>\n",
              "      <td>zylor new baby cosplayer! back kickstarter hel...</td>\n",
              "      <td>0</td>\n",
              "    </tr>\n",
              "    <tr>\n",
              "      <th>4</th>\n",
              "      <td>5</td>\n",
              "      <td>hatoful boyfriend meet skeletons! comedy datin...</td>\n",
              "      <td>0</td>\n",
              "    </tr>\n",
              "  </tbody>\n",
              "</table>\n",
              "</div>"
            ],
            "text/plain": [
              "   Unnamed: 0                                              blurb  state\n",
              "0           1  using character, users go educational quests a...      0\n",
              "1           2  microfly quadcopter packed wifi, 6 sensors, 3 ...      1\n",
              "2           3  small indie press, run collective authors want...      0\n",
              "3           4  zylor new baby cosplayer! back kickstarter hel...      0\n",
              "4           5  hatoful boyfriend meet skeletons! comedy datin...      0"
            ]
          },
          "metadata": {
            "tags": []
          },
          "execution_count": 18
        }
      ]
    },
    {
      "cell_type": "markdown",
      "metadata": {
        "id": "baoyUkVodAW6"
      },
      "source": [
        "# **4.Removing Punctuation**"
      ]
    },
    {
      "cell_type": "code",
      "metadata": {
        "id": "hkb4AvvZc_q7"
      },
      "source": [
        "#After removing stop words, we will work on removing punctuations\n",
        "big_kickstarter['blurb'] = big_kickstarter['blurb'].str.replace('[^\\w\\s]','')"
      ],
      "execution_count": null,
      "outputs": []
    },
    {
      "cell_type": "code",
      "metadata": {
        "colab": {
          "base_uri": "https://localhost:8080/",
          "height": 204
        },
        "id": "cfIku6wQdTLW",
        "outputId": "0ea79bc7-b676-4129-c084-30611661e08a"
      },
      "source": [
        "big_kickstarter.head()"
      ],
      "execution_count": null,
      "outputs": [
        {
          "output_type": "execute_result",
          "data": {
            "text/html": [
              "<div>\n",
              "<style scoped>\n",
              "    .dataframe tbody tr th:only-of-type {\n",
              "        vertical-align: middle;\n",
              "    }\n",
              "\n",
              "    .dataframe tbody tr th {\n",
              "        vertical-align: top;\n",
              "    }\n",
              "\n",
              "    .dataframe thead th {\n",
              "        text-align: right;\n",
              "    }\n",
              "</style>\n",
              "<table border=\"1\" class=\"dataframe\">\n",
              "  <thead>\n",
              "    <tr style=\"text-align: right;\">\n",
              "      <th></th>\n",
              "      <th>Unnamed: 0</th>\n",
              "      <th>blurb</th>\n",
              "      <th>state</th>\n",
              "    </tr>\n",
              "  </thead>\n",
              "  <tbody>\n",
              "    <tr>\n",
              "      <th>0</th>\n",
              "      <td>1</td>\n",
              "      <td>using character users go educational quests ar...</td>\n",
              "      <td>0</td>\n",
              "    </tr>\n",
              "    <tr>\n",
              "      <th>1</th>\n",
              "      <td>2</td>\n",
              "      <td>microfly quadcopter packed wifi 6 sensors 3 pr...</td>\n",
              "      <td>1</td>\n",
              "    </tr>\n",
              "    <tr>\n",
              "      <th>2</th>\n",
              "      <td>3</td>\n",
              "      <td>small indie press run collective authors want ...</td>\n",
              "      <td>0</td>\n",
              "    </tr>\n",
              "    <tr>\n",
              "      <th>3</th>\n",
              "      <td>4</td>\n",
              "      <td>zylor new baby cosplayer back kickstarter help...</td>\n",
              "      <td>0</td>\n",
              "    </tr>\n",
              "    <tr>\n",
              "      <th>4</th>\n",
              "      <td>5</td>\n",
              "      <td>hatoful boyfriend meet skeletons comedy dating...</td>\n",
              "      <td>0</td>\n",
              "    </tr>\n",
              "  </tbody>\n",
              "</table>\n",
              "</div>"
            ],
            "text/plain": [
              "   Unnamed: 0                                              blurb  state\n",
              "0           1  using character users go educational quests ar...      0\n",
              "1           2  microfly quadcopter packed wifi 6 sensors 3 pr...      1\n",
              "2           3  small indie press run collective authors want ...      0\n",
              "3           4  zylor new baby cosplayer back kickstarter help...      0\n",
              "4           5  hatoful boyfriend meet skeletons comedy dating...      0"
            ]
          },
          "metadata": {
            "tags": []
          },
          "execution_count": 20
        }
      ]
    },
    {
      "cell_type": "markdown",
      "metadata": {
        "id": "l2fQfVVoO6kH"
      },
      "source": [
        "# **5.Sentiment Analysis**"
      ]
    },
    {
      "cell_type": "code",
      "metadata": {
        "id": "J2Z2_VrkP7Jn"
      },
      "source": [
        "from textblob import TextBlob"
      ],
      "execution_count": null,
      "outputs": []
    },
    {
      "cell_type": "code",
      "metadata": {
        "id": "NpW26HFxQLO9"
      },
      "source": [
        "blurb = TextBlob(big_kickstarter.loc[0, 'blurb'])"
      ],
      "execution_count": null,
      "outputs": []
    },
    {
      "cell_type": "code",
      "metadata": {
        "colab": {
          "base_uri": "https://localhost:8080/"
        },
        "id": "JJyrnj8cSjFU",
        "outputId": "d242533a-41f7-4ec6-8f34-63c5e45b11b9"
      },
      "source": [
        "print(blurb.sentiment.polarity)\n",
        "print(blurb.sentiment.subjectivity)"
      ],
      "execution_count": null,
      "outputs": [
        {
          "output_type": "stream",
          "text": [
            "0.25\n",
            "0.25\n"
          ],
          "name": "stdout"
        }
      ]
    },
    {
      "cell_type": "code",
      "metadata": {
        "id": "zc6ZbnmwTXhL"
      },
      "source": [
        "big_kickstarter['length'] = big_kickstarter.blurb.apply(len)"
      ],
      "execution_count": null,
      "outputs": []
    },
    {
      "cell_type": "code",
      "metadata": {
        "id": "Hy743u9UZk71"
      },
      "source": [
        "big_kickstarter['polarity'] = big_kickstarter['blurb'].apply(lambda x:TextBlob(x).sentiment[0])\n",
        "big_kickstarter['subjectivity'] = big_kickstarter['blurb'].apply(lambda x:TextBlob(x).sentiment[1])"
      ],
      "execution_count": null,
      "outputs": []
    },
    {
      "cell_type": "code",
      "metadata": {
        "id": "m8SA22QORTdX"
      },
      "source": [
        "big_kickstarter.head(50)"
      ],
      "execution_count": null,
      "outputs": []
    },
    {
      "cell_type": "code",
      "metadata": {
        "colab": {
          "base_uri": "https://localhost:8080/",
          "height": 419
        },
        "id": "CGq0hAmllIuE",
        "outputId": "84ccf479-e765-48d8-e5a2-180e04320303"
      },
      "source": [
        "big_kickstarter[big_kickstarter['state']==0]"
      ],
      "execution_count": null,
      "outputs": [
        {
          "output_type": "execute_result",
          "data": {
            "text/html": [
              "<div>\n",
              "<style scoped>\n",
              "    .dataframe tbody tr th:only-of-type {\n",
              "        vertical-align: middle;\n",
              "    }\n",
              "\n",
              "    .dataframe tbody tr th {\n",
              "        vertical-align: top;\n",
              "    }\n",
              "\n",
              "    .dataframe thead th {\n",
              "        text-align: right;\n",
              "    }\n",
              "</style>\n",
              "<table border=\"1\" class=\"dataframe\">\n",
              "  <thead>\n",
              "    <tr style=\"text-align: right;\">\n",
              "      <th></th>\n",
              "      <th>Unnamed: 0</th>\n",
              "      <th>blurb</th>\n",
              "      <th>state</th>\n",
              "      <th>length</th>\n",
              "      <th>polarity</th>\n",
              "      <th>subjectivity</th>\n",
              "    </tr>\n",
              "  </thead>\n",
              "  <tbody>\n",
              "    <tr>\n",
              "      <th>0</th>\n",
              "      <td>1</td>\n",
              "      <td>using character users go educational quests ar...</td>\n",
              "      <td>0</td>\n",
              "      <td>107</td>\n",
              "      <td>0.250000</td>\n",
              "      <td>0.250000</td>\n",
              "    </tr>\n",
              "    <tr>\n",
              "      <th>2</th>\n",
              "      <td>3</td>\n",
              "      <td>small indie press run collective authors want ...</td>\n",
              "      <td>0</td>\n",
              "      <td>85</td>\n",
              "      <td>0.192857</td>\n",
              "      <td>0.608571</td>\n",
              "    </tr>\n",
              "    <tr>\n",
              "      <th>3</th>\n",
              "      <td>4</td>\n",
              "      <td>zylor new baby cosplayer back kickstarter help...</td>\n",
              "      <td>0</td>\n",
              "      <td>96</td>\n",
              "      <td>0.090909</td>\n",
              "      <td>0.303030</td>\n",
              "    </tr>\n",
              "    <tr>\n",
              "      <th>4</th>\n",
              "      <td>5</td>\n",
              "      <td>hatoful boyfriend meet skeletons comedy dating...</td>\n",
              "      <td>0</td>\n",
              "      <td>95</td>\n",
              "      <td>0.255000</td>\n",
              "      <td>0.545000</td>\n",
              "    </tr>\n",
              "    <tr>\n",
              "      <th>5</th>\n",
              "      <td>6</td>\n",
              "      <td>fastman infinite running platformer go fastman...</td>\n",
              "      <td>0</td>\n",
              "      <td>84</td>\n",
              "      <td>-0.050000</td>\n",
              "      <td>0.000000</td>\n",
              "    </tr>\n",
              "    <tr>\n",
              "      <th>...</th>\n",
              "      <td>...</td>\n",
              "      <td>...</td>\n",
              "      <td>...</td>\n",
              "      <td>...</td>\n",
              "      <td>...</td>\n",
              "      <td>...</td>\n",
              "    </tr>\n",
              "    <tr>\n",
              "      <th>215508</th>\n",
              "      <td>215509</td>\n",
              "      <td>new designer approach family wall art holiday ...</td>\n",
              "      <td>0</td>\n",
              "      <td>93</td>\n",
              "      <td>0.167424</td>\n",
              "      <td>0.305303</td>\n",
              "    </tr>\n",
              "    <tr>\n",
              "      <th>215509</th>\n",
              "      <td>215510</td>\n",
              "      <td>im looking build urban youth center help keep ...</td>\n",
              "      <td>0</td>\n",
              "      <td>86</td>\n",
              "      <td>-0.050000</td>\n",
              "      <td>0.050000</td>\n",
              "    </tr>\n",
              "    <tr>\n",
              "      <th>215510</th>\n",
              "      <td>215511</td>\n",
              "      <td>plan create realistic accurate reconstruction ...</td>\n",
              "      <td>0</td>\n",
              "      <td>79</td>\n",
              "      <td>0.283333</td>\n",
              "      <td>0.483333</td>\n",
              "    </tr>\n",
              "    <tr>\n",
              "      <th>215511</th>\n",
              "      <td>215512</td>\n",
              "      <td>create unique fantastic gifts mash works art p...</td>\n",
              "      <td>0</td>\n",
              "      <td>95</td>\n",
              "      <td>0.303788</td>\n",
              "      <td>0.784848</td>\n",
              "    </tr>\n",
              "    <tr>\n",
              "      <th>215512</th>\n",
              "      <td>215513</td>\n",
              "      <td>currently running shop zazzle come would like ...</td>\n",
              "      <td>0</td>\n",
              "      <td>80</td>\n",
              "      <td>-0.400000</td>\n",
              "      <td>0.700000</td>\n",
              "    </tr>\n",
              "  </tbody>\n",
              "</table>\n",
              "<p>107200 rows × 6 columns</p>\n",
              "</div>"
            ],
            "text/plain": [
              "        Unnamed: 0  ... subjectivity\n",
              "0                1  ...     0.250000\n",
              "2                3  ...     0.608571\n",
              "3                4  ...     0.303030\n",
              "4                5  ...     0.545000\n",
              "5                6  ...     0.000000\n",
              "...            ...  ...          ...\n",
              "215508      215509  ...     0.305303\n",
              "215509      215510  ...     0.050000\n",
              "215510      215511  ...     0.483333\n",
              "215511      215512  ...     0.784848\n",
              "215512      215513  ...     0.700000\n",
              "\n",
              "[107200 rows x 6 columns]"
            ]
          },
          "metadata": {
            "tags": []
          },
          "execution_count": 28
        }
      ]
    },
    {
      "cell_type": "code",
      "metadata": {
        "colab": {
          "base_uri": "https://localhost:8080/",
          "height": 419
        },
        "id": "ID_PLXallS9O",
        "outputId": "161411cd-0842-40e9-a4fe-5612829720de"
      },
      "source": [
        "big_kickstarter[big_kickstarter['state']==1]"
      ],
      "execution_count": null,
      "outputs": [
        {
          "output_type": "execute_result",
          "data": {
            "text/html": [
              "<div>\n",
              "<style scoped>\n",
              "    .dataframe tbody tr th:only-of-type {\n",
              "        vertical-align: middle;\n",
              "    }\n",
              "\n",
              "    .dataframe tbody tr th {\n",
              "        vertical-align: top;\n",
              "    }\n",
              "\n",
              "    .dataframe thead th {\n",
              "        text-align: right;\n",
              "    }\n",
              "</style>\n",
              "<table border=\"1\" class=\"dataframe\">\n",
              "  <thead>\n",
              "    <tr style=\"text-align: right;\">\n",
              "      <th></th>\n",
              "      <th>Unnamed: 0</th>\n",
              "      <th>blurb</th>\n",
              "      <th>state</th>\n",
              "      <th>length</th>\n",
              "      <th>polarity</th>\n",
              "      <th>subjectivity</th>\n",
              "    </tr>\n",
              "  </thead>\n",
              "  <tbody>\n",
              "    <tr>\n",
              "      <th>1</th>\n",
              "      <td>2</td>\n",
              "      <td>microfly quadcopter packed wifi 6 sensors 3 pr...</td>\n",
              "      <td>1</td>\n",
              "      <td>89</td>\n",
              "      <td>0.000000</td>\n",
              "      <td>1.000000</td>\n",
              "    </tr>\n",
              "    <tr>\n",
              "      <th>182</th>\n",
              "      <td>183</td>\n",
              "      <td>meow cat box simple clever card game cats boxe...</td>\n",
              "      <td>1</td>\n",
              "      <td>68</td>\n",
              "      <td>0.066667</td>\n",
              "      <td>0.547619</td>\n",
              "    </tr>\n",
              "    <tr>\n",
              "      <th>183</th>\n",
              "      <td>184</td>\n",
              "      <td>fast fun easytolearn easytoplay strategic card...</td>\n",
              "      <td>1</td>\n",
              "      <td>64</td>\n",
              "      <td>0.075000</td>\n",
              "      <td>0.400000</td>\n",
              "    </tr>\n",
              "    <tr>\n",
              "      <th>184</th>\n",
              "      <td>185</td>\n",
              "      <td>awesome place play games make friends great fo...</td>\n",
              "      <td>1</td>\n",
              "      <td>55</td>\n",
              "      <td>0.900000</td>\n",
              "      <td>0.875000</td>\n",
              "    </tr>\n",
              "    <tr>\n",
              "      <th>185</th>\n",
              "      <td>186</td>\n",
              "      <td>trenchworx excited launch third kickstarter ca...</td>\n",
              "      <td>1</td>\n",
              "      <td>77</td>\n",
              "      <td>0.125000</td>\n",
              "      <td>0.250000</td>\n",
              "    </tr>\n",
              "    <tr>\n",
              "      <th>...</th>\n",
              "      <td>...</td>\n",
              "      <td>...</td>\n",
              "      <td>...</td>\n",
              "      <td>...</td>\n",
              "      <td>...</td>\n",
              "      <td>...</td>\n",
              "    </tr>\n",
              "    <tr>\n",
              "      <th>215154</th>\n",
              "      <td>215155</td>\n",
              "      <td>smfa students take collaborative art projects ...</td>\n",
              "      <td>1</td>\n",
              "      <td>83</td>\n",
              "      <td>0.166667</td>\n",
              "      <td>0.166667</td>\n",
              "    </tr>\n",
              "    <tr>\n",
              "      <th>215155</th>\n",
              "      <td>215156</td>\n",
              "      <td>cities installation jen grabarczyk  nouf aldah...</td>\n",
              "      <td>1</td>\n",
              "      <td>78</td>\n",
              "      <td>0.000000</td>\n",
              "      <td>0.000000</td>\n",
              "    </tr>\n",
              "    <tr>\n",
              "      <th>215156</th>\n",
              "      <td>215157</td>\n",
              "      <td>interdisciplinary art project svalbard archipe...</td>\n",
              "      <td>1</td>\n",
              "      <td>72</td>\n",
              "      <td>0.000000</td>\n",
              "      <td>0.000000</td>\n",
              "    </tr>\n",
              "    <tr>\n",
              "      <th>215157</th>\n",
              "      <td>215158</td>\n",
              "      <td>great poetry book includes art sewd poetry</td>\n",
              "      <td>1</td>\n",
              "      <td>42</td>\n",
              "      <td>0.800000</td>\n",
              "      <td>0.750000</td>\n",
              "    </tr>\n",
              "    <tr>\n",
              "      <th>215158</th>\n",
              "      <td>215159</td>\n",
              "      <td>friendship worth brian feldman examines questi...</td>\n",
              "      <td>1</td>\n",
              "      <td>107</td>\n",
              "      <td>0.300000</td>\n",
              "      <td>0.100000</td>\n",
              "    </tr>\n",
              "  </tbody>\n",
              "</table>\n",
              "<p>108310 rows × 6 columns</p>\n",
              "</div>"
            ],
            "text/plain": [
              "        Unnamed: 0  ... subjectivity\n",
              "1                2  ...     1.000000\n",
              "182            183  ...     0.547619\n",
              "183            184  ...     0.400000\n",
              "184            185  ...     0.875000\n",
              "185            186  ...     0.250000\n",
              "...            ...  ...          ...\n",
              "215154      215155  ...     0.166667\n",
              "215155      215156  ...     0.000000\n",
              "215156      215157  ...     0.000000\n",
              "215157      215158  ...     0.750000\n",
              "215158      215159  ...     0.100000\n",
              "\n",
              "[108310 rows x 6 columns]"
            ]
          },
          "metadata": {
            "tags": []
          },
          "execution_count": 29
        }
      ]
    },
    {
      "cell_type": "markdown",
      "metadata": {
        "id": "fV6Vv51tV0S5"
      },
      "source": [
        "# **6.LDA**"
      ]
    },
    {
      "cell_type": "markdown",
      "metadata": {
        "id": "_JVNEF66c9bX"
      },
      "source": [
        "**Perform the LDA**"
      ]
    },
    {
      "cell_type": "code",
      "metadata": {
        "id": "xEJdZ8_7XY8S"
      },
      "source": [
        "from sklearn.feature_extraction.text import CountVectorizer\n",
        "cv = CountVectorizer(max_df=0.95, min_df=2, stop_words='english')\n",
        "dtm = cv.fit_transform(big_kickstarter['blurb'])"
      ],
      "execution_count": null,
      "outputs": []
    },
    {
      "cell_type": "code",
      "metadata": {
        "colab": {
          "base_uri": "https://localhost:8080/"
        },
        "id": "jh-dLJEeXNk7",
        "outputId": "74dfa6f2-5839-4d28-87a0-a8e0e2e9ba24"
      },
      "source": [
        "from sklearn.decomposition import LatentDirichletAllocation\n",
        "LDA = LatentDirichletAllocation(n_components=7,random_state=42) \n",
        "LDA.fit(dtm)"
      ],
      "execution_count": null,
      "outputs": [
        {
          "output_type": "execute_result",
          "data": {
            "text/plain": [
              "LatentDirichletAllocation(batch_size=128, doc_topic_prior=None,\n",
              "                          evaluate_every=-1, learning_decay=0.7,\n",
              "                          learning_method='batch', learning_offset=10.0,\n",
              "                          max_doc_update_iter=100, max_iter=10,\n",
              "                          mean_change_tol=0.001, n_components=7, n_jobs=None,\n",
              "                          perp_tol=0.1, random_state=42, topic_word_prior=None,\n",
              "                          total_samples=1000000.0, verbose=0)"
            ]
          },
          "metadata": {
            "tags": []
          },
          "execution_count": 31
        }
      ]
    },
    {
      "cell_type": "markdown",
      "metadata": {
        "id": "YplH9rj_dCb3"
      },
      "source": [
        "**Showing stored words**"
      ]
    },
    {
      "cell_type": "code",
      "metadata": {
        "colab": {
          "base_uri": "https://localhost:8080/"
        },
        "id": "7EpXSB7JYO-s",
        "outputId": "ffbfc51a-a7b3-4be3-cb7a-07cda40468a3"
      },
      "source": [
        "len(cv.get_feature_names())"
      ],
      "execution_count": null,
      "outputs": [
        {
          "output_type": "execute_result",
          "data": {
            "text/plain": [
              "49033"
            ]
          },
          "metadata": {
            "tags": []
          },
          "execution_count": 32
        }
      ]
    },
    {
      "cell_type": "code",
      "metadata": {
        "colab": {
          "base_uri": "https://localhost:8080/"
        },
        "id": "HDHp8B85YU4m",
        "outputId": "3e05ab0e-2049-4632-b507-7658e3167590"
      },
      "source": [
        "type(cv.get_feature_names())"
      ],
      "execution_count": null,
      "outputs": [
        {
          "output_type": "execute_result",
          "data": {
            "text/plain": [
              "list"
            ]
          },
          "metadata": {
            "tags": []
          },
          "execution_count": 33
        }
      ]
    },
    {
      "cell_type": "code",
      "metadata": {
        "id": "NQW_TYizYgcO"
      },
      "source": [
        "import random "
      ],
      "execution_count": null,
      "outputs": []
    },
    {
      "cell_type": "code",
      "metadata": {
        "colab": {
          "base_uri": "https://localhost:8080/",
          "height": 35
        },
        "id": "1rqnd2UCYg9Y",
        "outputId": "30eefd22-ec6b-47f9-bcec-40aeaab04c92"
      },
      "source": [
        "#Grab a random integer from 0 upto 49033\n",
        "random_word_id = random.randint(0,49033)\n",
        "\n",
        "cv.get_feature_names()[random_word_id]"
      ],
      "execution_count": null,
      "outputs": [
        {
          "output_type": "execute_result",
          "data": {
            "application/vnd.google.colaboratory.intrinsic+json": {
              "type": "string"
            },
            "text/plain": [
              "'taras'"
            ]
          },
          "metadata": {
            "tags": []
          },
          "execution_count": 35
        }
      ]
    },
    {
      "cell_type": "code",
      "metadata": {
        "colab": {
          "base_uri": "https://localhost:8080/"
        },
        "id": "dVWc6SKMYkBu",
        "outputId": "6df77535-5f1a-42ea-ee16-d09b485b411b"
      },
      "source": [
        "#Get a list of 10 words from the random integer range from 0 to 49033\n",
        "for i in range(10):\n",
        "    random_word_id = random.randint(0,49033) \n",
        "    print(cv.get_feature_names()[random_word_id])"
      ],
      "execution_count": null,
      "outputs": [
        {
          "output_type": "stream",
          "text": [
            "lifeless\n",
            "wanda\n",
            "tonics\n",
            "balmy\n",
            "wilde\n",
            "witchcraft\n",
            "flytrap\n",
            "peyote\n",
            "sqipe\n",
            "wll\n"
          ],
          "name": "stdout"
        }
      ]
    },
    {
      "cell_type": "markdown",
      "metadata": {
        "id": "7US9R5csdKCC"
      },
      "source": [
        "**Showing Top Words per Topic**"
      ]
    },
    {
      "cell_type": "code",
      "metadata": {
        "colab": {
          "base_uri": "https://localhost:8080/"
        },
        "id": "elVN3-hjaGro",
        "outputId": "4f17fa49-6540-45b5-fd4c-cabe4e49909d"
      },
      "source": [
        "len(LDA.components_)"
      ],
      "execution_count": null,
      "outputs": [
        {
          "output_type": "execute_result",
          "data": {
            "text/plain": [
              "7"
            ]
          },
          "metadata": {
            "tags": []
          },
          "execution_count": 37
        }
      ]
    },
    {
      "cell_type": "code",
      "metadata": {
        "colab": {
          "base_uri": "https://localhost:8080/"
        },
        "id": "rlLXt9vxaK7X",
        "outputId": "cbca8157-219f-4ff4-a5c8-dbab00c6bdac"
      },
      "source": [
        "type(LDA.components_)"
      ],
      "execution_count": null,
      "outputs": [
        {
          "output_type": "execute_result",
          "data": {
            "text/plain": [
              "numpy.ndarray"
            ]
          },
          "metadata": {
            "tags": []
          },
          "execution_count": 38
        }
      ]
    },
    {
      "cell_type": "code",
      "metadata": {
        "colab": {
          "base_uri": "https://localhost:8080/"
        },
        "id": "PXktf4a8aNMV",
        "outputId": "1a8cd58c-67fb-4488-d6df-90c8f2118233"
      },
      "source": [
        "LDA.components_.shape"
      ],
      "execution_count": null,
      "outputs": [
        {
          "output_type": "execute_result",
          "data": {
            "text/plain": [
              "(7, 49033)"
            ]
          },
          "metadata": {
            "tags": []
          },
          "execution_count": 39
        }
      ]
    },
    {
      "cell_type": "code",
      "metadata": {
        "colab": {
          "base_uri": "https://localhost:8080/"
        },
        "id": "fOt6iYmuaPht",
        "outputId": "62553134-3e00-4910-fcdd-5be5369b54a4"
      },
      "source": [
        "LDA.components_"
      ],
      "execution_count": null,
      "outputs": [
        {
          "output_type": "execute_result",
          "data": {
            "text/plain": [
              "array([[0.14434983, 0.14293695, 0.14291886, ..., 0.14285716, 0.14285716,\n",
              "        0.14285741],\n",
              "       [2.14144459, 4.5219052 , 0.14285739, ..., 0.14285716, 0.14285716,\n",
              "        0.14591039],\n",
              "       [0.1431426 , 0.14308547, 0.14389298, ..., 0.14285715, 0.14285715,\n",
              "        0.14285733],\n",
              "       ...,\n",
              "       [0.1431329 , 0.14290396, 0.14285733, ..., 0.14285715, 0.14285715,\n",
              "        0.14285732],\n",
              "       [3.13936573, 0.14319438, 0.14285738, ..., 0.14285716, 0.14285716,\n",
              "        0.14285737],\n",
              "       [0.14340792, 5.76293643, 2.14175869, ..., 2.14285706, 2.14285706,\n",
              "        2.1392684 ]])"
            ]
          },
          "metadata": {
            "tags": []
          },
          "execution_count": 40
        }
      ]
    },
    {
      "cell_type": "code",
      "metadata": {
        "id": "mqRcJe-3aTIU"
      },
      "source": [
        "single_topic = LDA.components_[0]"
      ],
      "execution_count": null,
      "outputs": []
    },
    {
      "cell_type": "code",
      "metadata": {
        "colab": {
          "base_uri": "https://localhost:8080/"
        },
        "id": "NsRmeqbgaV2d",
        "outputId": "80a3db71-576a-4181-a2b0-c3ff0b6d7508"
      },
      "source": [
        "single_topic.argsort()"
      ],
      "execution_count": null,
      "outputs": [
        {
          "output_type": "execute_result",
          "data": {
            "text/plain": [
              "array([44092, 19751, 11632, ..., 18298, 29980, 18271])"
            ]
          },
          "metadata": {
            "tags": []
          },
          "execution_count": 42
        }
      ]
    },
    {
      "cell_type": "code",
      "metadata": {
        "colab": {
          "base_uri": "https://localhost:8080/"
        },
        "id": "gIipQ2ipaYU3",
        "outputId": "af1deaa7-12b9-4a38-a0b3-c572bc3b7ce7"
      },
      "source": [
        "single_topic.argsort()[-10:]"
      ],
      "execution_count": null,
      "outputs": [
        {
          "output_type": "execute_result",
          "data": {
            "text/plain": [
              "array([33389, 14403, 48326, 16276,  2176,  7831,  7805, 18298, 29980,\n",
              "       18271])"
            ]
          },
          "metadata": {
            "tags": []
          },
          "execution_count": 43
        }
      ]
    },
    {
      "cell_type": "code",
      "metadata": {
        "id": "mFqmlNONaYN3"
      },
      "source": [
        "top_ten_words = single_topic.argsort()[-10:]"
      ],
      "execution_count": null,
      "outputs": []
    },
    {
      "cell_type": "code",
      "metadata": {
        "colab": {
          "base_uri": "https://localhost:8080/"
        },
        "id": "cWORROi9aeY2",
        "outputId": "c958d466-817c-4daf-d2d1-5bb42e57b588"
      },
      "source": [
        "for index in top_ten_words: \n",
        "    print(cv.get_feature_names()[index])"
      ],
      "execution_count": null,
      "outputs": [
        {
          "output_type": "stream",
          "text": [
            "playing\n",
            "edition\n",
            "world\n",
            "fantasy\n",
            "adventure\n",
            "cards\n",
            "card\n",
            "games\n",
            "new\n",
            "game\n"
          ],
          "name": "stdout"
        }
      ]
    },
    {
      "cell_type": "markdown",
      "metadata": {
        "id": "FpdNuipRcKdd"
      },
      "source": [
        "**Set up a loop that shows top 15 words for each of the 7 topics.**"
      ]
    },
    {
      "cell_type": "code",
      "metadata": {
        "colab": {
          "base_uri": "https://localhost:8080/"
        },
        "id": "lbyrZpCTayUg",
        "outputId": "003cf23a-a9f2-455e-8d02-4cd8a54e4d60"
      },
      "source": [
        "for index,topic in enumerate(LDA.components_):\n",
        "    print(f'THE TOP 15 WORDS FOR TOPIC #{index}') #Grab last 15words\n",
        "    print([cv.get_feature_names()[index] for index in topic.argsort()[-15:]])\n",
        "    print('\\n')"
      ],
      "execution_count": null,
      "outputs": [
        {
          "output_type": "stream",
          "text": [
            "THE TOP 15 WORDS FOR TOPIC #0\n",
            "['limited', 'set', 'fun', 'players', 'play', 'playing', 'edition', 'world', 'fantasy', 'adventure', 'cards', 'card', 'games', 'new', 'game']\n",
            "\n",
            "\n",
            "THE TOP 15 WORDS FOR TOPIC #1\n",
            "['want', 'project', 'collection', 'books', 'fun', 'series', 'childrens', 'people', 'kids', 'children', 'world', 'art', 'love', 'stories', 'book']\n",
            "\n",
            "\n",
            "THE TOP 15 WORDS FOR TOPIC #2\n",
            "['studio', 'fund', 'band', 'ep', 'recording', 'songs', 'project', 'im', 'make', 'record', 'need', 'new', 'music', 'album', 'help']\n",
            "\n",
            "\n",
            "THE TOP 15 WORDS FOR TOPIC #3\n",
            "['create', 'work', 'project', 'bring', 'music', 'city', 'festival', 'help', 'dance', 'local', 'artists', 'community', 'food', 'new', 'art']\n",
            "\n",
            "\n",
            "THE TOP 15 WORDS FOR TOPIC #4\n",
            "['feature', 'new', 'journey', 'girl', 'documentary', 'series', 'comedy', 'love', 'man', 'young', 'world', 'short', 'story', 'life', 'film']\n",
            "\n",
            "\n",
            "THE TOP 15 WORDS FOR TOPIC #5\n",
            "['mobile', 'unique', 'platform', 'way', 'online', 'brand', 'clothing', 'use', 'magazine', 'social', 'fashion', 'design', 'designed', 'new', 'app']\n",
            "\n",
            "\n",
            "THE TOP 15 WORDS FOR TOPIC #6\n",
            "['world', 'students', 'business', '3d', 'using', 'people', 'home', 'school', 'build', 'create', 'make', 'want', 'quality', 'high', 'help']\n",
            "\n",
            "\n"
          ],
          "name": "stdout"
        }
      ]
    },
    {
      "cell_type": "markdown",
      "metadata": {
        "id": "JgbAkH3OC9Gf"
      },
      "source": [
        "THE TOP 15 WORDS FOR TOPIC #0\n",
        "['limited', 'set', 'fun', 'players', 'play', 'playing', 'edition', 'world', 'fantasy', 'adventure', 'cards', 'card', 'games', 'new', 'game']\n",
        "\n",
        "\n",
        "THE TOP 15 WORDS FOR TOPIC #1\n",
        "['want', 'project', 'collection', 'books', 'fun', 'series', 'childrens', 'people', 'kids', 'children', 'world', 'art', 'love', 'stories', 'book']\n",
        "\n",
        "\n",
        "THE TOP 15 WORDS FOR TOPIC #2\n",
        "['studio', 'fund', 'band', 'ep', 'recording', 'songs', 'project', 'im', 'make', 'record', 'need', 'new', 'music', 'album', 'help']\n",
        "\n",
        "\n",
        "THE TOP 15 WORDS FOR TOPIC #3\n",
        "['create', 'work', 'project', 'bring', 'music', 'city', 'festival', 'help', 'dance', 'local', 'artists', 'community', 'food', 'new', 'art']\n",
        "\n",
        "\n",
        "THE TOP 15 WORDS FOR TOPIC #4\n",
        "['feature', 'new', 'journey', 'girl', 'documentary', 'series', 'comedy', 'love', 'man', 'young', 'world', 'short', 'story', 'life', 'film']\n",
        "\n",
        "\n",
        "THE TOP 15 WORDS FOR TOPIC #5\n",
        "['mobile', 'unique', 'platform', 'way', 'online', 'brand', 'clothing', 'use', 'magazine', 'social', 'fashion', 'design', 'designed', 'new', 'app']\n",
        "\n",
        "\n",
        "THE TOP 15 WORDS FOR TOPIC #6\n",
        "['world', 'students', 'business', '3d', 'using', 'people', 'home', 'school', 'build', 'create', 'make', 'want', 'quality', 'high', 'help']"
      ]
    },
    {
      "cell_type": "code",
      "metadata": {
        "id": "5fojK0A9DWvx"
      },
      "source": [
        "#Creating list for LDA words \n",
        "games = ['limited', 'set', 'fun', 'players', 'play', 'playing', 'edition', 'world', 'fantasy', 'adventure', 'cards', 'card', 'games', 'new', 'game']\n",
        "children = ['want', 'project', 'collection', 'books', 'fun', 'series', 'childrens', 'people', 'kids', 'children', 'world', 'art', 'love', 'stories', 'book']\n",
        "music = ['studio', 'fund', 'band', 'ep', 'recording', 'songs', 'project', 'im', 'make', 'record', 'need', 'new', 'music', 'album', 'help']\n",
        "art = ['create', 'work', 'project', 'bring', 'music', 'city', 'festival', 'help', 'dance', 'local', 'artists', 'community', 'food', 'new', 'art']\n",
        "life = ['feature', 'new', 'journey', 'girl', 'documentary', 'series', 'comedy', 'love', 'man', 'young', 'world', 'short', 'story', 'life', 'film']\n",
        "communication = ['mobile', 'unique', 'platform', 'way', 'online', 'brand', 'clothing', 'use', 'magazine', 'social', 'fashion', 'design', 'designed', 'new', 'app']\n",
        "creativity = ['world', 'students', 'business', '3d', 'using', 'people', 'home', 'school', 'build', 'create', 'make', 'want', 'quality', 'high', 'help']"
      ],
      "execution_count": null,
      "outputs": []
    },
    {
      "cell_type": "markdown",
      "metadata": {
        "id": "QhbSUT8yb_2E"
      },
      "source": [
        "**Attached discovery topics to original blurb**"
      ]
    },
    {
      "cell_type": "code",
      "metadata": {
        "colab": {
          "base_uri": "https://localhost:8080/"
        },
        "id": "2yEZqMw3a7kJ",
        "outputId": "e076caa3-7df5-4edf-b765-85278ef7fa34"
      },
      "source": [
        "dtm"
      ],
      "execution_count": null,
      "outputs": [
        {
          "output_type": "execute_result",
          "data": {
            "text/plain": [
              "<215510x49033 sparse matrix of type '<class 'numpy.int64'>'\n",
              "\twith 2237995 stored elements in Compressed Sparse Row format>"
            ]
          },
          "metadata": {
            "tags": []
          },
          "execution_count": 47
        }
      ]
    },
    {
      "cell_type": "code",
      "metadata": {
        "id": "upuKA0OdbJ0j"
      },
      "source": [
        "topic_results = LDA.transform(dtm)"
      ],
      "execution_count": null,
      "outputs": []
    },
    {
      "cell_type": "code",
      "metadata": {
        "id": "L9kRa39rbTLy"
      },
      "source": [
        "big_kickstarter['Topic'] = topic_results.argmax(axis=1)"
      ],
      "execution_count": null,
      "outputs": []
    },
    {
      "cell_type": "code",
      "metadata": {
        "colab": {
          "base_uri": "https://localhost:8080/",
          "height": 359
        },
        "id": "NEx8xoTIbhRr",
        "outputId": "98f75134-fc86-4ef6-ff05-4aa807f46a8f"
      },
      "source": [
        "big_kickstarter.head(10)"
      ],
      "execution_count": null,
      "outputs": [
        {
          "output_type": "execute_result",
          "data": {
            "text/html": [
              "<div>\n",
              "<style scoped>\n",
              "    .dataframe tbody tr th:only-of-type {\n",
              "        vertical-align: middle;\n",
              "    }\n",
              "\n",
              "    .dataframe tbody tr th {\n",
              "        vertical-align: top;\n",
              "    }\n",
              "\n",
              "    .dataframe thead th {\n",
              "        text-align: right;\n",
              "    }\n",
              "</style>\n",
              "<table border=\"1\" class=\"dataframe\">\n",
              "  <thead>\n",
              "    <tr style=\"text-align: right;\">\n",
              "      <th></th>\n",
              "      <th>Unnamed: 0</th>\n",
              "      <th>blurb</th>\n",
              "      <th>state</th>\n",
              "      <th>length</th>\n",
              "      <th>polarity</th>\n",
              "      <th>subjectivity</th>\n",
              "      <th>Topic</th>\n",
              "    </tr>\n",
              "  </thead>\n",
              "  <tbody>\n",
              "    <tr>\n",
              "      <th>0</th>\n",
              "      <td>1</td>\n",
              "      <td>Using character users go educational quests ar...</td>\n",
              "      <td>0</td>\n",
              "      <td>107</td>\n",
              "      <td>0.250000</td>\n",
              "      <td>0.250000</td>\n",
              "      <td>0</td>\n",
              "    </tr>\n",
              "    <tr>\n",
              "      <th>1</th>\n",
              "      <td>2</td>\n",
              "      <td>MicroFly quadcopter packed WiFi 6 sensors 3 pr...</td>\n",
              "      <td>1</td>\n",
              "      <td>89</td>\n",
              "      <td>0.000000</td>\n",
              "      <td>1.000000</td>\n",
              "      <td>5</td>\n",
              "    </tr>\n",
              "    <tr>\n",
              "      <th>2</th>\n",
              "      <td>3</td>\n",
              "      <td>A small indie press run collective authors wan...</td>\n",
              "      <td>0</td>\n",
              "      <td>87</td>\n",
              "      <td>0.192857</td>\n",
              "      <td>0.608571</td>\n",
              "      <td>1</td>\n",
              "    </tr>\n",
              "    <tr>\n",
              "      <th>3</th>\n",
              "      <td>4</td>\n",
              "      <td>Zylor new baby cosplayer Back kickstarter help...</td>\n",
              "      <td>0</td>\n",
              "      <td>96</td>\n",
              "      <td>0.090909</td>\n",
              "      <td>0.303030</td>\n",
              "      <td>6</td>\n",
              "    </tr>\n",
              "    <tr>\n",
              "      <th>4</th>\n",
              "      <td>5</td>\n",
              "      <td>Hatoful Boyfriend meet Skeletons A comedy Dati...</td>\n",
              "      <td>0</td>\n",
              "      <td>97</td>\n",
              "      <td>0.255000</td>\n",
              "      <td>0.545000</td>\n",
              "      <td>4</td>\n",
              "    </tr>\n",
              "    <tr>\n",
              "      <th>5</th>\n",
              "      <td>6</td>\n",
              "      <td>FastMan Infinite running platformer Go FastMan...</td>\n",
              "      <td>0</td>\n",
              "      <td>84</td>\n",
              "      <td>-0.050000</td>\n",
              "      <td>0.000000</td>\n",
              "      <td>0</td>\n",
              "    </tr>\n",
              "    <tr>\n",
              "      <th>6</th>\n",
              "      <td>7</td>\n",
              "      <td>FADE A dark somber RPG survival hopeLegend Zel...</td>\n",
              "      <td>0</td>\n",
              "      <td>62</td>\n",
              "      <td>-0.150000</td>\n",
              "      <td>0.400000</td>\n",
              "      <td>0</td>\n",
              "    </tr>\n",
              "    <tr>\n",
              "      <th>7</th>\n",
              "      <td>8</td>\n",
              "      <td>The next generation space combat online progre...</td>\n",
              "      <td>0</td>\n",
              "      <td>92</td>\n",
              "      <td>0.250000</td>\n",
              "      <td>0.250000</td>\n",
              "      <td>0</td>\n",
              "    </tr>\n",
              "    <tr>\n",
              "      <th>8</th>\n",
              "      <td>9</td>\n",
              "      <td>Whip around planets smash way victory video ga...</td>\n",
              "      <td>0</td>\n",
              "      <td>69</td>\n",
              "      <td>-0.400000</td>\n",
              "      <td>0.400000</td>\n",
              "      <td>0</td>\n",
              "    </tr>\n",
              "    <tr>\n",
              "      <th>9</th>\n",
              "      <td>10</td>\n",
              "      <td>Sneak in find treasures avoid cats collect loo...</td>\n",
              "      <td>0</td>\n",
              "      <td>61</td>\n",
              "      <td>0.000000</td>\n",
              "      <td>0.000000</td>\n",
              "      <td>0</td>\n",
              "    </tr>\n",
              "  </tbody>\n",
              "</table>\n",
              "</div>"
            ],
            "text/plain": [
              "   Unnamed: 0  ... Topic\n",
              "0           1  ...     0\n",
              "1           2  ...     5\n",
              "2           3  ...     1\n",
              "3           4  ...     6\n",
              "4           5  ...     4\n",
              "5           6  ...     0\n",
              "6           7  ...     0\n",
              "7           8  ...     0\n",
              "8           9  ...     0\n",
              "9          10  ...     0\n",
              "\n",
              "[10 rows x 7 columns]"
            ]
          },
          "metadata": {
            "tags": []
          },
          "execution_count": 50
        }
      ]
    },
    {
      "cell_type": "markdown",
      "metadata": {
        "id": "dX1WFDDHerxf"
      },
      "source": [
        "# **7.Finding top 10 most common words for successful and non successful blurbs**"
      ]
    },
    {
      "cell_type": "markdown",
      "metadata": {
        "id": "vUzGzziboXtV"
      },
      "source": [
        "Utilizing Week 06 NER"
      ]
    },
    {
      "cell_type": "code",
      "metadata": {
        "colab": {
          "base_uri": "https://localhost:8080/",
          "height": 359
        },
        "id": "Fwas9k3sDqUs",
        "outputId": "d41214f2-6cbd-4364-ef2c-5c650bf51d17"
      },
      "source": [
        "big_kickstarter.head(10)"
      ],
      "execution_count": null,
      "outputs": [
        {
          "output_type": "execute_result",
          "data": {
            "text/html": [
              "<div>\n",
              "<style scoped>\n",
              "    .dataframe tbody tr th:only-of-type {\n",
              "        vertical-align: middle;\n",
              "    }\n",
              "\n",
              "    .dataframe tbody tr th {\n",
              "        vertical-align: top;\n",
              "    }\n",
              "\n",
              "    .dataframe thead th {\n",
              "        text-align: right;\n",
              "    }\n",
              "</style>\n",
              "<table border=\"1\" class=\"dataframe\">\n",
              "  <thead>\n",
              "    <tr style=\"text-align: right;\">\n",
              "      <th></th>\n",
              "      <th>Unnamed: 0</th>\n",
              "      <th>blurb</th>\n",
              "      <th>state</th>\n",
              "      <th>length</th>\n",
              "      <th>polarity</th>\n",
              "      <th>subjectivity</th>\n",
              "      <th>Topic</th>\n",
              "    </tr>\n",
              "  </thead>\n",
              "  <tbody>\n",
              "    <tr>\n",
              "      <th>0</th>\n",
              "      <td>1</td>\n",
              "      <td>Using character users go educational quests ar...</td>\n",
              "      <td>0</td>\n",
              "      <td>107</td>\n",
              "      <td>0.250000</td>\n",
              "      <td>0.250000</td>\n",
              "      <td>0</td>\n",
              "    </tr>\n",
              "    <tr>\n",
              "      <th>1</th>\n",
              "      <td>2</td>\n",
              "      <td>MicroFly quadcopter packed WiFi 6 sensors 3 pr...</td>\n",
              "      <td>1</td>\n",
              "      <td>89</td>\n",
              "      <td>0.000000</td>\n",
              "      <td>1.000000</td>\n",
              "      <td>5</td>\n",
              "    </tr>\n",
              "    <tr>\n",
              "      <th>2</th>\n",
              "      <td>3</td>\n",
              "      <td>A small indie press run collective authors wan...</td>\n",
              "      <td>0</td>\n",
              "      <td>87</td>\n",
              "      <td>0.192857</td>\n",
              "      <td>0.608571</td>\n",
              "      <td>1</td>\n",
              "    </tr>\n",
              "    <tr>\n",
              "      <th>3</th>\n",
              "      <td>4</td>\n",
              "      <td>Zylor new baby cosplayer Back kickstarter help...</td>\n",
              "      <td>0</td>\n",
              "      <td>96</td>\n",
              "      <td>0.090909</td>\n",
              "      <td>0.303030</td>\n",
              "      <td>6</td>\n",
              "    </tr>\n",
              "    <tr>\n",
              "      <th>4</th>\n",
              "      <td>5</td>\n",
              "      <td>Hatoful Boyfriend meet Skeletons A comedy Dati...</td>\n",
              "      <td>0</td>\n",
              "      <td>97</td>\n",
              "      <td>0.255000</td>\n",
              "      <td>0.545000</td>\n",
              "      <td>4</td>\n",
              "    </tr>\n",
              "    <tr>\n",
              "      <th>5</th>\n",
              "      <td>6</td>\n",
              "      <td>FastMan Infinite running platformer Go FastMan...</td>\n",
              "      <td>0</td>\n",
              "      <td>84</td>\n",
              "      <td>-0.050000</td>\n",
              "      <td>0.000000</td>\n",
              "      <td>0</td>\n",
              "    </tr>\n",
              "    <tr>\n",
              "      <th>6</th>\n",
              "      <td>7</td>\n",
              "      <td>FADE A dark somber RPG survival hopeLegend Zel...</td>\n",
              "      <td>0</td>\n",
              "      <td>62</td>\n",
              "      <td>-0.150000</td>\n",
              "      <td>0.400000</td>\n",
              "      <td>0</td>\n",
              "    </tr>\n",
              "    <tr>\n",
              "      <th>7</th>\n",
              "      <td>8</td>\n",
              "      <td>The next generation space combat online progre...</td>\n",
              "      <td>0</td>\n",
              "      <td>92</td>\n",
              "      <td>0.250000</td>\n",
              "      <td>0.250000</td>\n",
              "      <td>0</td>\n",
              "    </tr>\n",
              "    <tr>\n",
              "      <th>8</th>\n",
              "      <td>9</td>\n",
              "      <td>Whip around planets smash way victory video ga...</td>\n",
              "      <td>0</td>\n",
              "      <td>69</td>\n",
              "      <td>-0.400000</td>\n",
              "      <td>0.400000</td>\n",
              "      <td>0</td>\n",
              "    </tr>\n",
              "    <tr>\n",
              "      <th>9</th>\n",
              "      <td>10</td>\n",
              "      <td>Sneak in find treasures avoid cats collect loo...</td>\n",
              "      <td>0</td>\n",
              "      <td>61</td>\n",
              "      <td>0.000000</td>\n",
              "      <td>0.000000</td>\n",
              "      <td>0</td>\n",
              "    </tr>\n",
              "  </tbody>\n",
              "</table>\n",
              "</div>"
            ],
            "text/plain": [
              "   Unnamed: 0  ... Topic\n",
              "0           1  ...     0\n",
              "1           2  ...     5\n",
              "2           3  ...     1\n",
              "3           4  ...     6\n",
              "4           5  ...     4\n",
              "5           6  ...     0\n",
              "6           7  ...     0\n",
              "7           8  ...     0\n",
              "8           9  ...     0\n",
              "9          10  ...     0\n",
              "\n",
              "[10 rows x 7 columns]"
            ]
          },
          "metadata": {
            "tags": []
          },
          "execution_count": 53
        }
      ]
    },
    {
      "cell_type": "code",
      "metadata": {
        "colab": {
          "base_uri": "https://localhost:8080/"
        },
        "id": "gSKDHRueDzxh",
        "outputId": "4f9eaedb-fb4a-4b45-9630-d5e132ca69fa"
      },
      "source": [
        "big_kickstarter.info()"
      ],
      "execution_count": null,
      "outputs": [
        {
          "output_type": "stream",
          "text": [
            "<class 'pandas.core.frame.DataFrame'>\n",
            "Int64Index: 215510 entries, 0 to 215512\n",
            "Data columns (total 7 columns):\n",
            " #   Column        Non-Null Count   Dtype  \n",
            "---  ------        --------------   -----  \n",
            " 0   Unnamed: 0    215510 non-null  int64  \n",
            " 1   blurb         215510 non-null  object \n",
            " 2   state         215510 non-null  int64  \n",
            " 3   length        215510 non-null  int64  \n",
            " 4   polarity      215510 non-null  float64\n",
            " 5   subjectivity  215510 non-null  float64\n",
            " 6   Topic         215510 non-null  int64  \n",
            "dtypes: float64(2), int64(4), object(1)\n",
            "memory usage: 23.2+ MB\n"
          ],
          "name": "stdout"
        }
      ]
    },
    {
      "cell_type": "markdown",
      "metadata": {
        "id": "PBO7_wFjEJh4"
      },
      "source": [
        "**UNSUCCESSFUL BLURBS**"
      ]
    },
    {
      "cell_type": "code",
      "metadata": {
        "colab": {
          "base_uri": "https://localhost:8080/",
          "height": 419
        },
        "id": "jEjuJL6nBN9w",
        "outputId": "a2821b7e-4d4e-4fb9-ad5e-0d47973fa37a"
      },
      "source": [
        "unsuccessfuldf = big_kickstarter[big_kickstarter[\"state\"]==0]"
      ],
      "execution_count": null,
      "outputs": [
        {
          "output_type": "execute_result",
          "data": {
            "text/html": [
              "<div>\n",
              "<style scoped>\n",
              "    .dataframe tbody tr th:only-of-type {\n",
              "        vertical-align: middle;\n",
              "    }\n",
              "\n",
              "    .dataframe tbody tr th {\n",
              "        vertical-align: top;\n",
              "    }\n",
              "\n",
              "    .dataframe thead th {\n",
              "        text-align: right;\n",
              "    }\n",
              "</style>\n",
              "<table border=\"1\" class=\"dataframe\">\n",
              "  <thead>\n",
              "    <tr style=\"text-align: right;\">\n",
              "      <th></th>\n",
              "      <th>Unnamed: 0</th>\n",
              "      <th>blurb</th>\n",
              "      <th>state</th>\n",
              "      <th>length</th>\n",
              "      <th>polarity</th>\n",
              "      <th>subjectivity</th>\n",
              "      <th>Topic</th>\n",
              "    </tr>\n",
              "  </thead>\n",
              "  <tbody>\n",
              "    <tr>\n",
              "      <th>0</th>\n",
              "      <td>1</td>\n",
              "      <td>using character users go educational quests ar...</td>\n",
              "      <td>0</td>\n",
              "      <td>107</td>\n",
              "      <td>0.250000</td>\n",
              "      <td>0.250000</td>\n",
              "      <td>0</td>\n",
              "    </tr>\n",
              "    <tr>\n",
              "      <th>2</th>\n",
              "      <td>3</td>\n",
              "      <td>small indie press run collective authors want ...</td>\n",
              "      <td>0</td>\n",
              "      <td>87</td>\n",
              "      <td>0.192857</td>\n",
              "      <td>0.608571</td>\n",
              "      <td>1</td>\n",
              "    </tr>\n",
              "    <tr>\n",
              "      <th>3</th>\n",
              "      <td>4</td>\n",
              "      <td>zylor new baby cosplayer back kickstarter help...</td>\n",
              "      <td>0</td>\n",
              "      <td>96</td>\n",
              "      <td>0.090909</td>\n",
              "      <td>0.303030</td>\n",
              "      <td>6</td>\n",
              "    </tr>\n",
              "    <tr>\n",
              "      <th>4</th>\n",
              "      <td>5</td>\n",
              "      <td>hatoful boyfriend meet skeletons comedy dating...</td>\n",
              "      <td>0</td>\n",
              "      <td>97</td>\n",
              "      <td>0.255000</td>\n",
              "      <td>0.545000</td>\n",
              "      <td>4</td>\n",
              "    </tr>\n",
              "    <tr>\n",
              "      <th>5</th>\n",
              "      <td>6</td>\n",
              "      <td>fastman infinite running platformer go fastman...</td>\n",
              "      <td>0</td>\n",
              "      <td>84</td>\n",
              "      <td>-0.050000</td>\n",
              "      <td>0.000000</td>\n",
              "      <td>0</td>\n",
              "    </tr>\n",
              "    <tr>\n",
              "      <th>...</th>\n",
              "      <td>...</td>\n",
              "      <td>...</td>\n",
              "      <td>...</td>\n",
              "      <td>...</td>\n",
              "      <td>...</td>\n",
              "      <td>...</td>\n",
              "      <td>...</td>\n",
              "    </tr>\n",
              "    <tr>\n",
              "      <th>215508</th>\n",
              "      <td>215509</td>\n",
              "      <td>new designer approach family wall art holiday ...</td>\n",
              "      <td>0</td>\n",
              "      <td>98</td>\n",
              "      <td>0.167424</td>\n",
              "      <td>0.305303</td>\n",
              "      <td>1</td>\n",
              "    </tr>\n",
              "    <tr>\n",
              "      <th>215509</th>\n",
              "      <td>215510</td>\n",
              "      <td>im looking build urban youth center help keep ...</td>\n",
              "      <td>0</td>\n",
              "      <td>86</td>\n",
              "      <td>-0.050000</td>\n",
              "      <td>0.050000</td>\n",
              "      <td>3</td>\n",
              "    </tr>\n",
              "    <tr>\n",
              "      <th>215510</th>\n",
              "      <td>215511</td>\n",
              "      <td>plan create realistic accurate reconstruction ...</td>\n",
              "      <td>0</td>\n",
              "      <td>86</td>\n",
              "      <td>0.283333</td>\n",
              "      <td>0.483333</td>\n",
              "      <td>6</td>\n",
              "    </tr>\n",
              "    <tr>\n",
              "      <th>215511</th>\n",
              "      <td>215512</td>\n",
              "      <td>create unique fantastic gifts mash works art p...</td>\n",
              "      <td>0</td>\n",
              "      <td>95</td>\n",
              "      <td>0.303788</td>\n",
              "      <td>0.784848</td>\n",
              "      <td>1</td>\n",
              "    </tr>\n",
              "    <tr>\n",
              "      <th>215512</th>\n",
              "      <td>215513</td>\n",
              "      <td>currently running shop zazzle come would like ...</td>\n",
              "      <td>0</td>\n",
              "      <td>80</td>\n",
              "      <td>-0.400000</td>\n",
              "      <td>0.700000</td>\n",
              "      <td>3</td>\n",
              "    </tr>\n",
              "  </tbody>\n",
              "</table>\n",
              "<p>107200 rows × 7 columns</p>\n",
              "</div>"
            ],
            "text/plain": [
              "        Unnamed: 0  ... Topic\n",
              "0                1  ...     0\n",
              "2                3  ...     1\n",
              "3                4  ...     6\n",
              "4                5  ...     4\n",
              "5                6  ...     0\n",
              "...            ...  ...   ...\n",
              "215508      215509  ...     1\n",
              "215509      215510  ...     3\n",
              "215510      215511  ...     6\n",
              "215511      215512  ...     1\n",
              "215512      215513  ...     3\n",
              "\n",
              "[107200 rows x 7 columns]"
            ]
          },
          "metadata": {
            "tags": []
          },
          "execution_count": 77
        }
      ]
    },
    {
      "cell_type": "code",
      "metadata": {
        "id": "bWZWKJo8Yr2x",
        "colab": {
          "base_uri": "https://localhost:8080/",
          "height": 198
        },
        "outputId": "72af1dfc-76f8-4d46-a0e3-3a366ca66b50"
      },
      "source": [
        "from wordcloud import WordCloud\n",
        "from wordcloud import STOPWORDS\n",
        "\n",
        "# concatenate all the reviews into one single string \n",
        "full_text = ' '.join(unsuccessfuldf['blurb'])\n",
        "\n",
        "my_stop_words = [\"https\", \"co\", \"RT\", 'aren', 'couldn', 'didn', 'doesn', 'don', 'hadn', 'hasn', 'haven', 'isn', 'let', 'll', 'mustn', 're', 'rt', 'shan', 'shouldn', 've', 'wasn', 'weren', 'won', 'wouldn'] + list(STOPWORDS)\n",
        "cloud_no_stopword = WordCloud(background_color='white', stopwords=my_stop_words).generate(full_text)\n",
        "\n",
        "plt.imshow(cloud_no_stopword, interpolation='bilinear')\n",
        "plt.axis('off')\n",
        "plt.show()"
      ],
      "execution_count": null,
      "outputs": [
        {
          "output_type": "display_data",
          "data": {
            "image/png": "[encoded data removed]",
            "text/plain": [
              "<Figure size 432x288 with 1 Axes>"
            ]
          },
          "metadata": {
            "tags": [],
            "needs_background": "light"
          }
        }
      ]
    },
    {
      "cell_type": "code",
      "metadata": {
        "colab": {
          "base_uri": "https://localhost:8080/"
        },
        "id": "jiChE2mHEI9F",
        "outputId": "e79005c4-758a-4e43-c5d6-2be2416ac9be"
      },
      "source": [
        "from collections import Counter\n",
        "Counter(\" \".join(unsuccessfuldf[\"blurb\"]).split()).most_common(20)"
      ],
      "execution_count": null,
      "outputs": [
        {
          "output_type": "execute_result",
          "data": {
            "text/plain": [
              "[('help', 10979),\n",
              " ('new', 8897),\n",
              " ('book', 6794),\n",
              " ('world', 6437),\n",
              " ('music', 6117),\n",
              " ('make', 5611),\n",
              " ('life', 5179),\n",
              " ('want', 5133),\n",
              " ('game', 5024),\n",
              " ('first', 4920),\n",
              " ('art', 4863),\n",
              " ('one', 4823),\n",
              " ('need', 4590),\n",
              " ('people', 4472),\n",
              " ('create', 4390),\n",
              " ('project', 4365),\n",
              " ('album', 4339),\n",
              " ('get', 4231),\n",
              " ('love', 4170),\n",
              " ('us', 4082)]"
            ]
          },
          "metadata": {
            "tags": []
          },
          "execution_count": 83
        }
      ]
    },
    {
      "cell_type": "code",
      "metadata": {
        "id": "CQ8MaHJNHFXD"
      },
      "source": [
        "unsuccessfuldf0 = unsuccessfuldf[unsuccessfuldf[\"Topic\"]==0]"
      ],
      "execution_count": null,
      "outputs": []
    },
    {
      "cell_type": "code",
      "metadata": {
        "colab": {
          "base_uri": "https://localhost:8080/"
        },
        "id": "V4gnOvaQHdmA",
        "outputId": "22925146-9bdf-4b16-f9d8-9a0f45f42b4e"
      },
      "source": [
        "Counter(\" \".join(unsuccessfuldf0[\"blurb\"]).split()).most_common(10)"
      ],
      "execution_count": null,
      "outputs": [
        {
          "output_type": "execute_result",
          "data": {
            "text/plain": [
              "[('game', 3683),\n",
              " ('world', 885),\n",
              " ('new', 879),\n",
              " ('games', 653),\n",
              " ('adventure', 652),\n",
              " ('play', 606),\n",
              " ('fun', 581),\n",
              " ('action', 564),\n",
              " ('cards', 519),\n",
              " ('card', 516)]"
            ]
          },
          "metadata": {
            "tags": []
          },
          "execution_count": 100
        }
      ]
    },
    {
      "cell_type": "code",
      "metadata": {
        "id": "rIlZ0CppHWBi"
      },
      "source": [
        "unsuccessfuldf1 = unsuccessfuldf[unsuccessfuldf[\"Topic\"]==1]"
      ],
      "execution_count": null,
      "outputs": []
    },
    {
      "cell_type": "code",
      "metadata": {
        "colab": {
          "base_uri": "https://localhost:8080/"
        },
        "id": "l-WhsWfqHd_f",
        "outputId": "11e2997b-5ed0-44a7-972c-6a1a3e62be8b"
      },
      "source": [
        "Counter(\" \".join(unsuccessfuldf1[\"blurb\"]).split()).most_common(10)"
      ],
      "execution_count": null,
      "outputs": [
        {
          "output_type": "execute_result",
          "data": {
            "text/plain": [
              "[('book', 4388),\n",
              " ('world', 1366),\n",
              " ('love', 1193),\n",
              " ('art', 1191),\n",
              " ('people', 1156),\n",
              " ('help', 1093),\n",
              " ('children', 1079),\n",
              " ('want', 1017),\n",
              " ('series', 989),\n",
              " ('stories', 953)]"
            ]
          },
          "metadata": {
            "tags": []
          },
          "execution_count": 102
        }
      ]
    },
    {
      "cell_type": "code",
      "metadata": {
        "id": "EIAt5aQbHWgK"
      },
      "source": [
        "unsuccessfuldf2 = unsuccessfuldf[unsuccessfuldf[\"Topic\"]==2]"
      ],
      "execution_count": null,
      "outputs": []
    },
    {
      "cell_type": "code",
      "metadata": {
        "colab": {
          "base_uri": "https://localhost:8080/"
        },
        "id": "5ynrzHSJHedC",
        "outputId": "3c00d6c4-dfdc-4cfa-f7b3-373c82d8cfa6"
      },
      "source": [
        "Counter(\" \".join(unsuccessfuldf2[\"blurb\"]).split()).most_common(10)"
      ],
      "execution_count": null,
      "outputs": [
        {
          "output_type": "execute_result",
          "data": {
            "text/plain": [
              "[('help', 5101),\n",
              " ('album', 3991),\n",
              " ('music', 3895),\n",
              " ('new', 2905),\n",
              " ('need', 2453),\n",
              " ('make', 1889),\n",
              " ('first', 1837),\n",
              " ('record', 1577),\n",
              " ('project', 1564),\n",
              " ('im', 1493)]"
            ]
          },
          "metadata": {
            "tags": []
          },
          "execution_count": 104
        }
      ]
    },
    {
      "cell_type": "code",
      "metadata": {
        "id": "5V2uRT5ZHW3s"
      },
      "source": [
        "unsuccessfuldf3 = unsuccessfuldf[unsuccessfuldf[\"Topic\"]==3]"
      ],
      "execution_count": null,
      "outputs": []
    },
    {
      "cell_type": "code",
      "metadata": {
        "colab": {
          "base_uri": "https://localhost:8080/"
        },
        "id": "ODaVddSgHe3S",
        "outputId": "d135a27b-6e48-4689-b99a-1c1a56b07726"
      },
      "source": [
        "Counter(\" \".join(unsuccessfuldf3[\"blurb\"]).split()).most_common(10)"
      ],
      "execution_count": null,
      "outputs": [
        {
          "output_type": "execute_result",
          "data": {
            "text/plain": [
              "[('food', 1953),\n",
              " ('art', 1885),\n",
              " ('new', 1475),\n",
              " ('help', 1350),\n",
              " ('local', 1079),\n",
              " ('community', 1064),\n",
              " ('music', 861),\n",
              " ('want', 739),\n",
              " ('create', 732),\n",
              " ('artists', 718)]"
            ]
          },
          "metadata": {
            "tags": []
          },
          "execution_count": 106
        }
      ]
    },
    {
      "cell_type": "code",
      "metadata": {
        "id": "jRP7nGXPHXK7"
      },
      "source": [
        "unsuccessfuldf4 = unsuccessfuldf[unsuccessfuldf[\"Topic\"]==4]"
      ],
      "execution_count": null,
      "outputs": []
    },
    {
      "cell_type": "code",
      "metadata": {
        "colab": {
          "base_uri": "https://localhost:8080/"
        },
        "id": "tAGrL2WyHfQK",
        "outputId": "9a710bd6-8995-42ed-827f-d8c1474fd5c9"
      },
      "source": [
        "Counter(\" \".join(unsuccessfuldf4[\"blurb\"]).split()).most_common(10)"
      ],
      "execution_count": null,
      "outputs": [
        {
          "output_type": "execute_result",
          "data": {
            "text/plain": [
              "[('life', 2370),\n",
              " ('story', 2363),\n",
              " ('film', 2143),\n",
              " ('world', 1678),\n",
              " ('series', 1277),\n",
              " ('one', 1204),\n",
              " ('love', 1138),\n",
              " ('young', 1044),\n",
              " ('new', 981),\n",
              " ('man', 948)]"
            ]
          },
          "metadata": {
            "tags": []
          },
          "execution_count": 108
        }
      ]
    },
    {
      "cell_type": "code",
      "metadata": {
        "id": "UCfShhcJHXe4"
      },
      "source": [
        "unsuccessfuldf5 = unsuccessfuldf[unsuccessfuldf[\"Topic\"]==5]"
      ],
      "execution_count": null,
      "outputs": []
    },
    {
      "cell_type": "code",
      "metadata": {
        "colab": {
          "base_uri": "https://localhost:8080/"
        },
        "id": "puDEIarrHfqv",
        "outputId": "ad088a0e-75a5-43c4-e820-4d435d7c96de"
      },
      "source": [
        "Counter(\" \".join(unsuccessfuldf5[\"blurb\"]).split()).most_common(10)"
      ],
      "execution_count": null,
      "outputs": [
        {
          "output_type": "execute_result",
          "data": {
            "text/plain": [
              "[('app', 1971),\n",
              " ('new', 1446),\n",
              " ('social', 920),\n",
              " ('designed', 782),\n",
              " ('people', 772),\n",
              " ('help', 764),\n",
              " ('clothing', 760),\n",
              " ('create', 741),\n",
              " ('one', 726),\n",
              " ('design', 706)]"
            ]
          },
          "metadata": {
            "tags": []
          },
          "execution_count": 110
        }
      ]
    },
    {
      "cell_type": "code",
      "metadata": {
        "id": "flPpRqQKHX38"
      },
      "source": [
        "unsuccessfuldf6 = unsuccessfuldf[unsuccessfuldf[\"Topic\"]==6]"
      ],
      "execution_count": null,
      "outputs": []
    },
    {
      "cell_type": "code",
      "metadata": {
        "colab": {
          "base_uri": "https://localhost:8080/"
        },
        "id": "N497FJYtHgNh",
        "outputId": "15c79306-d209-4742-eab4-3d4d29aea27c"
      },
      "source": [
        "Counter(\" \".join(unsuccessfuldf6[\"blurb\"]).split()).most_common(10)"
      ],
      "execution_count": null,
      "outputs": [
        {
          "output_type": "execute_result",
          "data": {
            "text/plain": [
              "[('help', 1540),\n",
              " ('want', 1235),\n",
              " ('make', 1113),\n",
              " ('create', 1040),\n",
              " ('people', 683),\n",
              " ('quality', 635),\n",
              " ('high', 621),\n",
              " ('art', 586),\n",
              " ('build', 584),\n",
              " ('world', 583)]"
            ]
          },
          "metadata": {
            "tags": []
          },
          "execution_count": 112
        }
      ]
    },
    {
      "cell_type": "markdown",
      "metadata": {
        "id": "OY_-aoG6EMd9"
      },
      "source": [
        "**SUCCESSFUL BLURBS**"
      ]
    },
    {
      "cell_type": "code",
      "metadata": {
        "colab": {
          "base_uri": "https://localhost:8080/",
          "height": 419
        },
        "id": "fhWWV7JEAAOs",
        "outputId": "1b95a98b-163c-415f-bbcf-5630c7f1570f"
      },
      "source": [
        "successfuldf = big_kickstarter[big_kickstarter[\"state\"]==1]"
      ],
      "execution_count": null,
      "outputs": [
        {
          "output_type": "execute_result",
          "data": {
            "text/html": [
              "<div>\n",
              "<style scoped>\n",
              "    .dataframe tbody tr th:only-of-type {\n",
              "        vertical-align: middle;\n",
              "    }\n",
              "\n",
              "    .dataframe tbody tr th {\n",
              "        vertical-align: top;\n",
              "    }\n",
              "\n",
              "    .dataframe thead th {\n",
              "        text-align: right;\n",
              "    }\n",
              "</style>\n",
              "<table border=\"1\" class=\"dataframe\">\n",
              "  <thead>\n",
              "    <tr style=\"text-align: right;\">\n",
              "      <th></th>\n",
              "      <th>Unnamed: 0</th>\n",
              "      <th>blurb</th>\n",
              "      <th>state</th>\n",
              "      <th>length</th>\n",
              "      <th>polarity</th>\n",
              "      <th>subjectivity</th>\n",
              "      <th>Topic</th>\n",
              "    </tr>\n",
              "  </thead>\n",
              "  <tbody>\n",
              "    <tr>\n",
              "      <th>1</th>\n",
              "      <td>2</td>\n",
              "      <td>microfly quadcopter packed wifi 6 sensors 3 pr...</td>\n",
              "      <td>1</td>\n",
              "      <td>89</td>\n",
              "      <td>0.000000</td>\n",
              "      <td>1.000000</td>\n",
              "      <td>5</td>\n",
              "    </tr>\n",
              "    <tr>\n",
              "      <th>182</th>\n",
              "      <td>183</td>\n",
              "      <td>meow cat box simple clever card game cats boxe...</td>\n",
              "      <td>1</td>\n",
              "      <td>72</td>\n",
              "      <td>0.066667</td>\n",
              "      <td>0.547619</td>\n",
              "      <td>0</td>\n",
              "    </tr>\n",
              "    <tr>\n",
              "      <th>183</th>\n",
              "      <td>184</td>\n",
              "      <td>fast fun easytolearn easytoplay strategic card...</td>\n",
              "      <td>1</td>\n",
              "      <td>66</td>\n",
              "      <td>0.075000</td>\n",
              "      <td>0.400000</td>\n",
              "      <td>0</td>\n",
              "    </tr>\n",
              "    <tr>\n",
              "      <th>184</th>\n",
              "      <td>185</td>\n",
              "      <td>awesome place play games make friends great fo...</td>\n",
              "      <td>1</td>\n",
              "      <td>58</td>\n",
              "      <td>0.900000</td>\n",
              "      <td>0.875000</td>\n",
              "      <td>3</td>\n",
              "    </tr>\n",
              "    <tr>\n",
              "      <th>185</th>\n",
              "      <td>186</td>\n",
              "      <td>trenchworx excited launch third kickstarter ca...</td>\n",
              "      <td>1</td>\n",
              "      <td>77</td>\n",
              "      <td>0.125000</td>\n",
              "      <td>0.250000</td>\n",
              "      <td>2</td>\n",
              "    </tr>\n",
              "    <tr>\n",
              "      <th>...</th>\n",
              "      <td>...</td>\n",
              "      <td>...</td>\n",
              "      <td>...</td>\n",
              "      <td>...</td>\n",
              "      <td>...</td>\n",
              "      <td>...</td>\n",
              "      <td>...</td>\n",
              "    </tr>\n",
              "    <tr>\n",
              "      <th>215154</th>\n",
              "      <td>215155</td>\n",
              "      <td>smfa students take collaborative art projects ...</td>\n",
              "      <td>1</td>\n",
              "      <td>83</td>\n",
              "      <td>0.166667</td>\n",
              "      <td>0.166667</td>\n",
              "      <td>3</td>\n",
              "    </tr>\n",
              "    <tr>\n",
              "      <th>215155</th>\n",
              "      <td>215156</td>\n",
              "      <td>cities installation jen grabarczyk  nouf aldah...</td>\n",
              "      <td>1</td>\n",
              "      <td>90</td>\n",
              "      <td>0.000000</td>\n",
              "      <td>0.000000</td>\n",
              "      <td>3</td>\n",
              "    </tr>\n",
              "    <tr>\n",
              "      <th>215156</th>\n",
              "      <td>215157</td>\n",
              "      <td>interdisciplinary art project svalbard archipe...</td>\n",
              "      <td>1</td>\n",
              "      <td>75</td>\n",
              "      <td>0.000000</td>\n",
              "      <td>0.000000</td>\n",
              "      <td>3</td>\n",
              "    </tr>\n",
              "    <tr>\n",
              "      <th>215157</th>\n",
              "      <td>215158</td>\n",
              "      <td>great poetry book includes art sewd poetry</td>\n",
              "      <td>1</td>\n",
              "      <td>47</td>\n",
              "      <td>0.800000</td>\n",
              "      <td>0.750000</td>\n",
              "      <td>1</td>\n",
              "    </tr>\n",
              "    <tr>\n",
              "      <th>215158</th>\n",
              "      <td>215159</td>\n",
              "      <td>friendship worth brian feldman examines questi...</td>\n",
              "      <td>1</td>\n",
              "      <td>112</td>\n",
              "      <td>0.300000</td>\n",
              "      <td>0.100000</td>\n",
              "      <td>4</td>\n",
              "    </tr>\n",
              "  </tbody>\n",
              "</table>\n",
              "<p>108310 rows × 7 columns</p>\n",
              "</div>"
            ],
            "text/plain": [
              "        Unnamed: 0  ... Topic\n",
              "1                2  ...     5\n",
              "182            183  ...     0\n",
              "183            184  ...     0\n",
              "184            185  ...     3\n",
              "185            186  ...     2\n",
              "...            ...  ...   ...\n",
              "215154      215155  ...     3\n",
              "215155      215156  ...     3\n",
              "215156      215157  ...     3\n",
              "215157      215158  ...     1\n",
              "215158      215159  ...     4\n",
              "\n",
              "[108310 rows x 7 columns]"
            ]
          },
          "metadata": {
            "tags": []
          },
          "execution_count": 81
        }
      ]
    },
    {
      "cell_type": "code",
      "metadata": {
        "colab": {
          "base_uri": "https://localhost:8080/",
          "height": 198
        },
        "id": "bhLvuPbaYd3J",
        "outputId": "ea67295a-6966-4b2d-9c0e-5e3fb44e8a9b"
      },
      "source": [
        "from wordcloud import WordCloud\n",
        "from wordcloud import STOPWORDS\n",
        "\n",
        "# concatenate all the reviews into one single string \n",
        "full_text = ' '.join(successfuldf['blurb'])\n",
        "\n",
        "my_stop_words = [\"https\", \"co\", \"RT\", 'aren', 'couldn', 'didn', 'doesn', 'don', 'hadn', 'hasn', 'haven', 'isn', 'let', 'll', 'mustn', 're', 'rt', 'shan', 'shouldn', 've', 'wasn', 'weren', 'won', 'wouldn'] + list(STOPWORDS)\n",
        "cloud_no_stopword = WordCloud(background_color='white', stopwords=my_stop_words).generate(full_text)\n",
        "\n",
        "plt.imshow(cloud_no_stopword, interpolation='bilinear')\n",
        "plt.axis('off')\n",
        "plt.show()"
      ],
      "execution_count": null,
      "outputs": [
        {
          "output_type": "display_data",
          "data": {
            "image/png": "[encoded data removed]",
            "text/plain": [
              "<Figure size 432x288 with 1 Axes>"
            ]
          },
          "metadata": {
            "tags": [],
            "needs_background": "light"
          }
        }
      ]
    },
    {
      "cell_type": "code",
      "metadata": {
        "colab": {
          "base_uri": "https://localhost:8080/"
        },
        "id": "p0yDnPKgF8tI",
        "outputId": "2fae96bd-addf-491e-93db-227c67e558af"
      },
      "source": [
        "from collections import Counter\n",
        "Counter(\" \".join(successfuldf[\"blurb\"]).split()).most_common(20)"
      ],
      "execution_count": null,
      "outputs": [
        {
          "output_type": "execute_result",
          "data": {
            "text/plain": [
              "[('help', 13323),\n",
              " ('new', 12181),\n",
              " ('album', 6857),\n",
              " ('first', 6525),\n",
              " ('book', 6113),\n",
              " ('film', 6064),\n",
              " ('us', 5577),\n",
              " ('music', 5510),\n",
              " ('world', 5453),\n",
              " ('art', 5205),\n",
              " ('game', 5092),\n",
              " ('make', 4815),\n",
              " ('one', 4558),\n",
              " ('life', 4440),\n",
              " ('need', 4402),\n",
              " ('story', 4305),\n",
              " ('get', 4207),\n",
              " ('project', 3910),\n",
              " ('love', 3894),\n",
              " ('short', 3487)]"
            ]
          },
          "metadata": {
            "tags": []
          },
          "execution_count": 84
        }
      ]
    },
    {
      "cell_type": "code",
      "metadata": {
        "id": "5jWEzCQYI2DE"
      },
      "source": [
        "successfuldf0 = successfuldf[successfuldf[\"Topic\"]==0]"
      ],
      "execution_count": null,
      "outputs": []
    },
    {
      "cell_type": "code",
      "metadata": {
        "colab": {
          "base_uri": "https://localhost:8080/"
        },
        "id": "usUIX3iZI6QS",
        "outputId": "134eec5d-add8-43ce-b377-2cea3ecb9bc1"
      },
      "source": [
        "Counter(\" \".join(successfuldf0[\"blurb\"]).split()).most_common(10)"
      ],
      "execution_count": null,
      "outputs": [
        {
          "output_type": "execute_result",
          "data": {
            "text/plain": [
              "[('game', 4093),\n",
              " ('new', 1518),\n",
              " ('card', 1318),\n",
              " ('cards', 1048),\n",
              " ('fantasy', 909),\n",
              " ('world', 909),\n",
              " ('players', 884),\n",
              " ('games', 883),\n",
              " ('playing', 867),\n",
              " ('adventure', 827)]"
            ]
          },
          "metadata": {
            "tags": []
          },
          "execution_count": 115
        }
      ]
    },
    {
      "cell_type": "code",
      "metadata": {
        "id": "tvu9HO2_I-MR"
      },
      "source": [
        "successfuldf1 = successfuldf[successfuldf[\"Topic\"]==1]"
      ],
      "execution_count": null,
      "outputs": []
    },
    {
      "cell_type": "code",
      "metadata": {
        "colab": {
          "base_uri": "https://localhost:8080/"
        },
        "id": "LmnBKaA-I-qO",
        "outputId": "6d5003a5-4c29-4999-c5d3-953ef4c809c9"
      },
      "source": [
        "Counter(\" \".join(successfuldf1[\"blurb\"]).split()).most_common(10)"
      ],
      "execution_count": null,
      "outputs": [
        {
          "output_type": "execute_result",
          "data": {
            "text/plain": [
              "[('book', 3829),\n",
              " ('art', 1210),\n",
              " ('stories', 956),\n",
              " ('world', 858),\n",
              " ('help', 853),\n",
              " ('love', 786),\n",
              " ('new', 691),\n",
              " ('story', 686),\n",
              " ('one', 674),\n",
              " ('project', 673)]"
            ]
          },
          "metadata": {
            "tags": []
          },
          "execution_count": 121
        }
      ]
    },
    {
      "cell_type": "code",
      "metadata": {
        "id": "I4yaxkM8I_VG"
      },
      "source": [
        "successfuldf2 = successfuldf[successfuldf[\"Topic\"]==2]"
      ],
      "execution_count": null,
      "outputs": []
    },
    {
      "cell_type": "code",
      "metadata": {
        "colab": {
          "base_uri": "https://localhost:8080/"
        },
        "id": "ytEmteWOJBoQ",
        "outputId": "418a5700-78c0-47d8-fa1f-0c95240a51c1"
      },
      "source": [
        "Counter(\" \".join(successfuldf2[\"blurb\"]).split()).most_common(10)"
      ],
      "execution_count": null,
      "outputs": [
        {
          "output_type": "execute_result",
          "data": {
            "text/plain": [
              "[('help', 7316),\n",
              " ('album', 6436),\n",
              " ('new', 4809),\n",
              " ('music', 3344),\n",
              " ('record', 2940),\n",
              " ('first', 2832),\n",
              " ('need', 2829),\n",
              " ('us', 2270),\n",
              " ('make', 2036),\n",
              " ('recording', 2035)]"
            ]
          },
          "metadata": {
            "tags": []
          },
          "execution_count": 123
        }
      ]
    },
    {
      "cell_type": "code",
      "metadata": {
        "id": "C5DD9MwgI_kn"
      },
      "source": [
        "successfuldf3 = successfuldf[successfuldf[\"Topic\"]==3]"
      ],
      "execution_count": null,
      "outputs": []
    },
    {
      "cell_type": "code",
      "metadata": {
        "colab": {
          "base_uri": "https://localhost:8080/"
        },
        "id": "Iu2lbysLJCHg",
        "outputId": "f0a6e4a0-42b9-4145-cc91-55227ae8ce67"
      },
      "source": [
        "Counter(\" \".join(successfuldf3[\"blurb\"]).split()).most_common(10)"
      ],
      "execution_count": null,
      "outputs": [
        {
          "output_type": "execute_result",
          "data": {
            "text/plain": [
              "[('new', 2454),\n",
              " ('art', 2125),\n",
              " ('help', 2040),\n",
              " ('dance', 1460),\n",
              " ('community', 1184),\n",
              " ('us', 1106),\n",
              " ('music', 1025),\n",
              " ('festival', 1018),\n",
              " ('food', 1017),\n",
              " ('artists', 1017)]"
            ]
          },
          "metadata": {
            "tags": []
          },
          "execution_count": 125
        }
      ]
    },
    {
      "cell_type": "code",
      "metadata": {
        "id": "Jj4cuWb7I_6s"
      },
      "source": [
        "successfuldf4 = successfuldf[successfuldf[\"Topic\"]==4]"
      ],
      "execution_count": null,
      "outputs": []
    },
    {
      "cell_type": "code",
      "metadata": {
        "colab": {
          "base_uri": "https://localhost:8080/"
        },
        "id": "6uJbiigSJCjK",
        "outputId": "c1f2ecb9-c180-48b4-c042-83ab55a5e7c2"
      },
      "source": [
        "Counter(\" \".join(successfuldf4[\"blurb\"]).split()).most_common(10)"
      ],
      "execution_count": null,
      "outputs": [
        {
          "output_type": "execute_result",
          "data": {
            "text/plain": [
              "[('film', 4345),\n",
              " ('story', 2741),\n",
              " ('short', 2600),\n",
              " ('life', 2257),\n",
              " ('world', 1698),\n",
              " ('young', 1523),\n",
              " ('one', 1455),\n",
              " ('documentary', 1441),\n",
              " ('love', 1439),\n",
              " ('new', 1384)]"
            ]
          },
          "metadata": {
            "tags": []
          },
          "execution_count": 127
        }
      ]
    },
    {
      "cell_type": "code",
      "metadata": {
        "id": "Ahazcnl5JAQY"
      },
      "source": [
        "successfuldf5 = successfuldf[successfuldf[\"Topic\"]==5]"
      ],
      "execution_count": null,
      "outputs": []
    },
    {
      "cell_type": "code",
      "metadata": {
        "colab": {
          "base_uri": "https://localhost:8080/"
        },
        "id": "PO_Jb817JC4q",
        "outputId": "788d6663-d03b-4ac0-dd82-d5a1888330ae"
      },
      "source": [
        "Counter(\" \".join(successfuldf5[\"blurb\"]).split()).most_common(10)"
      ],
      "execution_count": null,
      "outputs": [
        {
          "output_type": "execute_result",
          "data": {
            "text/plain": [
              "[('made', 1065),\n",
              " ('designed', 986),\n",
              " ('new', 910),\n",
              " ('design', 818),\n",
              " ('first', 675),\n",
              " ('use', 477),\n",
              " ('worlds', 475),\n",
              " ('one', 471),\n",
              " ('wallet', 453),\n",
              " ('leather', 443)]"
            ]
          },
          "metadata": {
            "tags": []
          },
          "execution_count": 129
        }
      ]
    },
    {
      "cell_type": "code",
      "metadata": {
        "id": "_w9K-G2fJAlg"
      },
      "source": [
        "successfuldf6 = successfuldf[successfuldf[\"Topic\"]==6]"
      ],
      "execution_count": null,
      "outputs": []
    },
    {
      "cell_type": "code",
      "metadata": {
        "colab": {
          "base_uri": "https://localhost:8080/"
        },
        "id": "ESD5QYhUJDQa",
        "outputId": "984d3f07-7339-44aa-f282-8dffdc27ad93"
      },
      "source": [
        "Counter(\" \".join(successfuldf6[\"blurb\"]).split()).most_common(10)"
      ],
      "execution_count": null,
      "outputs": [
        {
          "output_type": "execute_result",
          "data": {
            "text/plain": [
              "[('help', 1170),\n",
              " ('make', 669),\n",
              " ('create', 530),\n",
              " ('high', 523),\n",
              " ('made', 468),\n",
              " ('quality', 465),\n",
              " ('us', 425),\n",
              " ('new', 415),\n",
              " ('want', 412),\n",
              " ('build', 404)]"
            ]
          },
          "metadata": {
            "tags": []
          },
          "execution_count": 131
        }
      ]
    },
    {
      "cell_type": "markdown",
      "metadata": {
        "id": "cIm8k7jgGD9j"
      },
      "source": [
        "Unsuccessful:\n",
        "\n",
        "[('help', 10979),\n",
        " ('new', 8897),\n",
        " ('book', 6794),\n",
        " ('world', 6437),\n",
        " ('music', 6117),\n",
        " ('make', 5611),\n",
        " ('life', 5179),\n",
        " ('want', 5133),\n",
        " ('game', 5024),\n",
        " ('first', 4920),\n",
        " ('art', 4863),\n",
        " ('one', 4823),\n",
        " ('need', 4590),\n",
        " ('people', 4472),\n",
        " ('create', 4390),\n",
        " ('project', 4365),\n",
        " ('album', 4339),\n",
        " ('get', 4231),\n",
        " ('love', 4170),\n",
        " ('us', 4082)]\n",
        "\n",
        "Successful:\n",
        "\n",
        "[('help', 13323),\n",
        " ('new', 12181),\n",
        " ('album', 6857),\n",
        " ('first', 6525),\n",
        " ('book', 6113),\n",
        " ('film', 6064),\n",
        " ('us', 5577),\n",
        " ('music', 5510),\n",
        " ('world', 5453),\n",
        " ('art', 5205),\n",
        " ('game', 5092),\n",
        " ('make', 4815),\n",
        " ('one', 4558),\n",
        " ('life', 4440),\n",
        " ('need', 4402),\n",
        " ('story', 4305),\n",
        " ('get', 4207),\n",
        " ('project', 3910),\n",
        " ('love', 3894),\n",
        " ('short', 3487)]\n"
      ]
    },
    {
      "cell_type": "markdown",
      "metadata": {
        "id": "4_bWvyZrGzIv"
      },
      "source": [
        "Quality of product ultimately determines whether it is successful or not. A well written blurb may attract a user to purchase a product, but it is the quality of it that decides if the user likes it or not "
      ]
    },
    {
      "cell_type": "markdown",
      "metadata": {
        "id": "9teUbgjCNYk1"
      },
      "source": [
        "# **8. Examine whether Wordiness of a blurb may affect the project description because too little or too many words would make the product not as intuitive.**"
      ]
    },
    {
      "cell_type": "code",
      "metadata": {
        "colab": {
          "base_uri": "https://localhost:8080/"
        },
        "id": "4PLxDloaNgOQ",
        "outputId": "ec434d8c-e0cb-4122-afbe-cf33e6b1cafa"
      },
      "source": [
        "big_kickstarter.length.describe()"
      ],
      "execution_count": null,
      "outputs": [
        {
          "output_type": "execute_result",
          "data": {
            "text/plain": [
              "count    215510.000000\n",
              "mean         87.642355\n",
              "std          20.891157\n",
              "min           0.000000\n",
              "25%          78.000000\n",
              "50%          92.000000\n",
              "75%         102.000000\n",
              "max         146.000000\n",
              "Name: length, dtype: float64"
            ]
          },
          "metadata": {
            "tags": []
          },
          "execution_count": 134
        }
      ]
    },
    {
      "cell_type": "code",
      "metadata": {
        "colab": {
          "base_uri": "https://localhost:8080/",
          "height": 80
        },
        "id": "irSCVHHlNu8J",
        "outputId": "41a28107-dd3c-410b-ffa5-7293bffc5d0a"
      },
      "source": [
        "big_kickstarter[big_kickstarter[\"length\"]==0]"
      ],
      "execution_count": null,
      "outputs": [
        {
          "output_type": "execute_result",
          "data": {
            "text/html": [
              "<div>\n",
              "<style scoped>\n",
              "    .dataframe tbody tr th:only-of-type {\n",
              "        vertical-align: middle;\n",
              "    }\n",
              "\n",
              "    .dataframe tbody tr th {\n",
              "        vertical-align: top;\n",
              "    }\n",
              "\n",
              "    .dataframe thead th {\n",
              "        text-align: right;\n",
              "    }\n",
              "</style>\n",
              "<table border=\"1\" class=\"dataframe\">\n",
              "  <thead>\n",
              "    <tr style=\"text-align: right;\">\n",
              "      <th></th>\n",
              "      <th>Unnamed: 0</th>\n",
              "      <th>blurb</th>\n",
              "      <th>state</th>\n",
              "      <th>length</th>\n",
              "      <th>polarity</th>\n",
              "      <th>subjectivity</th>\n",
              "      <th>Topic</th>\n",
              "    </tr>\n",
              "  </thead>\n",
              "  <tbody>\n",
              "    <tr>\n",
              "      <th>21716</th>\n",
              "      <td>21717</td>\n",
              "      <td></td>\n",
              "      <td>0</td>\n",
              "      <td>0</td>\n",
              "      <td>0.0</td>\n",
              "      <td>0.0</td>\n",
              "      <td>0</td>\n",
              "    </tr>\n",
              "  </tbody>\n",
              "</table>\n",
              "</div>"
            ],
            "text/plain": [
              "       Unnamed: 0 blurb  state  length  polarity  subjectivity  Topic\n",
              "21716       21717            0       0       0.0           0.0      0"
            ]
          },
          "metadata": {
            "tags": []
          },
          "execution_count": 137
        }
      ]
    },
    {
      "cell_type": "code",
      "metadata": {
        "colab": {
          "base_uri": "https://localhost:8080/",
          "height": 80
        },
        "id": "lDFZEeEcOAx9",
        "outputId": "e079965e-f94a-4632-b1f4-4a493027153e"
      },
      "source": [
        "big_kickstarter[big_kickstarter[\"length\"]==146]"
      ],
      "execution_count": null,
      "outputs": [
        {
          "output_type": "execute_result",
          "data": {
            "text/html": [
              "<div>\n",
              "<style scoped>\n",
              "    .dataframe tbody tr th:only-of-type {\n",
              "        vertical-align: middle;\n",
              "    }\n",
              "\n",
              "    .dataframe tbody tr th {\n",
              "        vertical-align: top;\n",
              "    }\n",
              "\n",
              "    .dataframe thead th {\n",
              "        text-align: right;\n",
              "    }\n",
              "</style>\n",
              "<table border=\"1\" class=\"dataframe\">\n",
              "  <thead>\n",
              "    <tr style=\"text-align: right;\">\n",
              "      <th></th>\n",
              "      <th>Unnamed: 0</th>\n",
              "      <th>blurb</th>\n",
              "      <th>state</th>\n",
              "      <th>length</th>\n",
              "      <th>polarity</th>\n",
              "      <th>subjectivity</th>\n",
              "      <th>Topic</th>\n",
              "    </tr>\n",
              "  </thead>\n",
              "  <tbody>\n",
              "    <tr>\n",
              "      <th>160563</th>\n",
              "      <td>160564</td>\n",
              "      <td>focused determined deliver quality heart felt ...</td>\n",
              "      <td>0</td>\n",
              "      <td>146</td>\n",
              "      <td>0.35</td>\n",
              "      <td>0.55</td>\n",
              "      <td>3</td>\n",
              "    </tr>\n",
              "  </tbody>\n",
              "</table>\n",
              "</div>"
            ],
            "text/plain": [
              "        Unnamed: 0  ... Topic\n",
              "160563      160564  ...     3\n",
              "\n",
              "[1 rows x 7 columns]"
            ]
          },
          "metadata": {
            "tags": []
          },
          "execution_count": 138
        }
      ]
    },
    {
      "cell_type": "code",
      "metadata": {
        "colab": {
          "base_uri": "https://localhost:8080/",
          "height": 419
        },
        "id": "tsEfHeR4Q51w",
        "outputId": "85a295bc-b0c5-4ea9-d017-e181ac21f4cc"
      },
      "source": [
        "#Label 0-30 as 1 31-60 as 2 etc...\n",
        "#polarity 1 means positive -1 means negative\n",
        "#Subjectivity 1 means personal opinion and 0 is factual\n",
        "bins = [0,30,60,90,120,150] \n",
        "labels=[1,2,3,4,5] \n",
        "big_kickstarter[\"catlength\"] = pd.cut(big_kickstarter[\"length\"], bins=bins, labels=labels, include_lowest=True)"
      ],
      "execution_count": null,
      "outputs": [
        {
          "output_type": "execute_result",
          "data": {
            "text/html": [
              "<div>\n",
              "<style scoped>\n",
              "    .dataframe tbody tr th:only-of-type {\n",
              "        vertical-align: middle;\n",
              "    }\n",
              "\n",
              "    .dataframe tbody tr th {\n",
              "        vertical-align: top;\n",
              "    }\n",
              "\n",
              "    .dataframe thead th {\n",
              "        text-align: right;\n",
              "    }\n",
              "</style>\n",
              "<table border=\"1\" class=\"dataframe\">\n",
              "  <thead>\n",
              "    <tr style=\"text-align: right;\">\n",
              "      <th></th>\n",
              "      <th>Unnamed: 0</th>\n",
              "      <th>blurb</th>\n",
              "      <th>state</th>\n",
              "      <th>length</th>\n",
              "      <th>polarity</th>\n",
              "      <th>subjectivity</th>\n",
              "      <th>Topic</th>\n",
              "      <th>catlength</th>\n",
              "    </tr>\n",
              "  </thead>\n",
              "  <tbody>\n",
              "    <tr>\n",
              "      <th>0</th>\n",
              "      <td>1</td>\n",
              "      <td>using character users go educational quests ar...</td>\n",
              "      <td>0</td>\n",
              "      <td>107</td>\n",
              "      <td>0.250000</td>\n",
              "      <td>0.250000</td>\n",
              "      <td>0</td>\n",
              "      <td>4</td>\n",
              "    </tr>\n",
              "    <tr>\n",
              "      <th>1</th>\n",
              "      <td>2</td>\n",
              "      <td>microfly quadcopter packed wifi 6 sensors 3 pr...</td>\n",
              "      <td>1</td>\n",
              "      <td>89</td>\n",
              "      <td>0.000000</td>\n",
              "      <td>1.000000</td>\n",
              "      <td>5</td>\n",
              "      <td>3</td>\n",
              "    </tr>\n",
              "    <tr>\n",
              "      <th>2</th>\n",
              "      <td>3</td>\n",
              "      <td>small indie press run collective authors want ...</td>\n",
              "      <td>0</td>\n",
              "      <td>87</td>\n",
              "      <td>0.192857</td>\n",
              "      <td>0.608571</td>\n",
              "      <td>1</td>\n",
              "      <td>3</td>\n",
              "    </tr>\n",
              "    <tr>\n",
              "      <th>3</th>\n",
              "      <td>4</td>\n",
              "      <td>zylor new baby cosplayer back kickstarter help...</td>\n",
              "      <td>0</td>\n",
              "      <td>96</td>\n",
              "      <td>0.090909</td>\n",
              "      <td>0.303030</td>\n",
              "      <td>6</td>\n",
              "      <td>4</td>\n",
              "    </tr>\n",
              "    <tr>\n",
              "      <th>4</th>\n",
              "      <td>5</td>\n",
              "      <td>hatoful boyfriend meet skeletons comedy dating...</td>\n",
              "      <td>0</td>\n",
              "      <td>97</td>\n",
              "      <td>0.255000</td>\n",
              "      <td>0.545000</td>\n",
              "      <td>4</td>\n",
              "      <td>4</td>\n",
              "    </tr>\n",
              "    <tr>\n",
              "      <th>...</th>\n",
              "      <td>...</td>\n",
              "      <td>...</td>\n",
              "      <td>...</td>\n",
              "      <td>...</td>\n",
              "      <td>...</td>\n",
              "      <td>...</td>\n",
              "      <td>...</td>\n",
              "      <td>...</td>\n",
              "    </tr>\n",
              "    <tr>\n",
              "      <th>215508</th>\n",
              "      <td>215509</td>\n",
              "      <td>new designer approach family wall art holiday ...</td>\n",
              "      <td>0</td>\n",
              "      <td>98</td>\n",
              "      <td>0.167424</td>\n",
              "      <td>0.305303</td>\n",
              "      <td>1</td>\n",
              "      <td>4</td>\n",
              "    </tr>\n",
              "    <tr>\n",
              "      <th>215509</th>\n",
              "      <td>215510</td>\n",
              "      <td>im looking build urban youth center help keep ...</td>\n",
              "      <td>0</td>\n",
              "      <td>86</td>\n",
              "      <td>-0.050000</td>\n",
              "      <td>0.050000</td>\n",
              "      <td>3</td>\n",
              "      <td>3</td>\n",
              "    </tr>\n",
              "    <tr>\n",
              "      <th>215510</th>\n",
              "      <td>215511</td>\n",
              "      <td>plan create realistic accurate reconstruction ...</td>\n",
              "      <td>0</td>\n",
              "      <td>86</td>\n",
              "      <td>0.283333</td>\n",
              "      <td>0.483333</td>\n",
              "      <td>6</td>\n",
              "      <td>3</td>\n",
              "    </tr>\n",
              "    <tr>\n",
              "      <th>215511</th>\n",
              "      <td>215512</td>\n",
              "      <td>create unique fantastic gifts mash works art p...</td>\n",
              "      <td>0</td>\n",
              "      <td>95</td>\n",
              "      <td>0.303788</td>\n",
              "      <td>0.784848</td>\n",
              "      <td>1</td>\n",
              "      <td>4</td>\n",
              "    </tr>\n",
              "    <tr>\n",
              "      <th>215512</th>\n",
              "      <td>215513</td>\n",
              "      <td>currently running shop zazzle come would like ...</td>\n",
              "      <td>0</td>\n",
              "      <td>80</td>\n",
              "      <td>-0.400000</td>\n",
              "      <td>0.700000</td>\n",
              "      <td>3</td>\n",
              "      <td>3</td>\n",
              "    </tr>\n",
              "  </tbody>\n",
              "</table>\n",
              "<p>215510 rows × 8 columns</p>\n",
              "</div>"
            ],
            "text/plain": [
              "        Unnamed: 0  ... catlength\n",
              "0                1  ...         4\n",
              "1                2  ...         3\n",
              "2                3  ...         3\n",
              "3                4  ...         4\n",
              "4                5  ...         4\n",
              "...            ...  ...       ...\n",
              "215508      215509  ...         4\n",
              "215509      215510  ...         3\n",
              "215510      215511  ...         3\n",
              "215511      215512  ...         4\n",
              "215512      215513  ...         3\n",
              "\n",
              "[215510 rows x 8 columns]"
            ]
          },
          "metadata": {
            "tags": []
          },
          "execution_count": 158
        }
      ]
    },
    {
      "cell_type": "code",
      "metadata": {
        "colab": {
          "base_uri": "https://localhost:8080/",
          "height": 419
        },
        "id": "0_PksFQFSX99",
        "outputId": "27528683-2fa8-4341-e468-179c5a2c0aa7"
      },
      "source": [
        "subj1 = big_kickstarter[((big_kickstarter[\"subjectivity\"]==1) & (big_kickstarter[\"state\"]==1))]"
      ],
      "execution_count": null,
      "outputs": [
        {
          "output_type": "execute_result",
          "data": {
            "text/html": [
              "<div>\n",
              "<style scoped>\n",
              "    .dataframe tbody tr th:only-of-type {\n",
              "        vertical-align: middle;\n",
              "    }\n",
              "\n",
              "    .dataframe tbody tr th {\n",
              "        vertical-align: top;\n",
              "    }\n",
              "\n",
              "    .dataframe thead th {\n",
              "        text-align: right;\n",
              "    }\n",
              "</style>\n",
              "<table border=\"1\" class=\"dataframe\">\n",
              "  <thead>\n",
              "    <tr style=\"text-align: right;\">\n",
              "      <th></th>\n",
              "      <th>Unnamed: 0</th>\n",
              "      <th>blurb</th>\n",
              "      <th>state</th>\n",
              "      <th>length</th>\n",
              "      <th>polarity</th>\n",
              "      <th>subjectivity</th>\n",
              "      <th>Topic</th>\n",
              "      <th>catlength</th>\n",
              "    </tr>\n",
              "  </thead>\n",
              "  <tbody>\n",
              "    <tr>\n",
              "      <th>1</th>\n",
              "      <td>2</td>\n",
              "      <td>microfly quadcopter packed wifi 6 sensors 3 pr...</td>\n",
              "      <td>1</td>\n",
              "      <td>89</td>\n",
              "      <td>0.000000</td>\n",
              "      <td>1.0</td>\n",
              "      <td>5</td>\n",
              "      <td>3</td>\n",
              "    </tr>\n",
              "    <tr>\n",
              "      <th>186</th>\n",
              "      <td>187</td>\n",
              "      <td>soundscapes around mysterious borderlands cast...</td>\n",
              "      <td>1</td>\n",
              "      <td>84</td>\n",
              "      <td>0.000000</td>\n",
              "      <td>1.0</td>\n",
              "      <td>0</td>\n",
              "      <td>3</td>\n",
              "    </tr>\n",
              "    <tr>\n",
              "      <th>189</th>\n",
              "      <td>190</td>\n",
              "      <td>range 28mm figures cover boxer rebellion inclu...</td>\n",
              "      <td>1</td>\n",
              "      <td>105</td>\n",
              "      <td>0.500000</td>\n",
              "      <td>1.0</td>\n",
              "      <td>0</td>\n",
              "      <td>4</td>\n",
              "    </tr>\n",
              "    <tr>\n",
              "      <th>201</th>\n",
              "      <td>202</td>\n",
              "      <td>magic mineral pools rpgs skirmish war games etc</td>\n",
              "      <td>1</td>\n",
              "      <td>47</td>\n",
              "      <td>0.500000</td>\n",
              "      <td>1.0</td>\n",
              "      <td>0</td>\n",
              "      <td>2</td>\n",
              "    </tr>\n",
              "    <tr>\n",
              "      <th>231</th>\n",
              "      <td>232</td>\n",
              "      <td>twopart liveaction comical shortfilm series wr...</td>\n",
              "      <td>1</td>\n",
              "      <td>91</td>\n",
              "      <td>0.500000</td>\n",
              "      <td>1.0</td>\n",
              "      <td>4</td>\n",
              "      <td>4</td>\n",
              "    </tr>\n",
              "    <tr>\n",
              "      <th>...</th>\n",
              "      <td>...</td>\n",
              "      <td>...</td>\n",
              "      <td>...</td>\n",
              "      <td>...</td>\n",
              "      <td>...</td>\n",
              "      <td>...</td>\n",
              "      <td>...</td>\n",
              "      <td>...</td>\n",
              "    </tr>\n",
              "    <tr>\n",
              "      <th>215092</th>\n",
              "      <td>215093</td>\n",
              "      <td>project fund multistate road trip research doc...</td>\n",
              "      <td>1</td>\n",
              "      <td>98</td>\n",
              "      <td>1.000000</td>\n",
              "      <td>1.0</td>\n",
              "      <td>1</td>\n",
              "      <td>4</td>\n",
              "    </tr>\n",
              "    <tr>\n",
              "      <th>215101</th>\n",
              "      <td>215102</td>\n",
              "      <td>made shirts final people wanted want sell shir...</td>\n",
              "      <td>1</td>\n",
              "      <td>72</td>\n",
              "      <td>0.000000</td>\n",
              "      <td>1.0</td>\n",
              "      <td>6</td>\n",
              "      <td>3</td>\n",
              "    </tr>\n",
              "    <tr>\n",
              "      <th>215129</th>\n",
              "      <td>215130</td>\n",
              "      <td>miko kuros midnight tea collaborative art happ...</td>\n",
              "      <td>1</td>\n",
              "      <td>109</td>\n",
              "      <td>0.375000</td>\n",
              "      <td>1.0</td>\n",
              "      <td>3</td>\n",
              "      <td>4</td>\n",
              "    </tr>\n",
              "    <tr>\n",
              "      <th>215144</th>\n",
              "      <td>215145</td>\n",
              "      <td>four students glass department rhode island sc...</td>\n",
              "      <td>1</td>\n",
              "      <td>104</td>\n",
              "      <td>0.000000</td>\n",
              "      <td>1.0</td>\n",
              "      <td>3</td>\n",
              "      <td>4</td>\n",
              "    </tr>\n",
              "    <tr>\n",
              "      <th>215153</th>\n",
              "      <td>215154</td>\n",
              "      <td>return impossible  interdisciplinary art proje...</td>\n",
              "      <td>1</td>\n",
              "      <td>102</td>\n",
              "      <td>-0.666667</td>\n",
              "      <td>1.0</td>\n",
              "      <td>2</td>\n",
              "      <td>4</td>\n",
              "    </tr>\n",
              "  </tbody>\n",
              "</table>\n",
              "<p>5137 rows × 8 columns</p>\n",
              "</div>"
            ],
            "text/plain": [
              "        Unnamed: 0  ... catlength\n",
              "1                2  ...         3\n",
              "186            187  ...         3\n",
              "189            190  ...         4\n",
              "201            202  ...         2\n",
              "231            232  ...         4\n",
              "...            ...  ...       ...\n",
              "215092      215093  ...         4\n",
              "215101      215102  ...         3\n",
              "215129      215130  ...         4\n",
              "215144      215145  ...         4\n",
              "215153      215154  ...         4\n",
              "\n",
              "[5137 rows x 8 columns]"
            ]
          },
          "metadata": {
            "tags": []
          },
          "execution_count": 164
        }
      ]
    },
    {
      "cell_type": "code",
      "metadata": {
        "colab": {
          "base_uri": "https://localhost:8080/",
          "height": 419
        },
        "id": "4oBDYoCwTHO2",
        "outputId": "e47889ba-f87b-46d7-ef40-95f71110da19"
      },
      "source": [
        "subj0 = big_kickstarter[((big_kickstarter[\"subjectivity\"]==0) & (big_kickstarter[\"state\"]==1))]"
      ],
      "execution_count": null,
      "outputs": [
        {
          "output_type": "execute_result",
          "data": {
            "text/html": [
              "<div>\n",
              "<style scoped>\n",
              "    .dataframe tbody tr th:only-of-type {\n",
              "        vertical-align: middle;\n",
              "    }\n",
              "\n",
              "    .dataframe tbody tr th {\n",
              "        vertical-align: top;\n",
              "    }\n",
              "\n",
              "    .dataframe thead th {\n",
              "        text-align: right;\n",
              "    }\n",
              "</style>\n",
              "<table border=\"1\" class=\"dataframe\">\n",
              "  <thead>\n",
              "    <tr style=\"text-align: right;\">\n",
              "      <th></th>\n",
              "      <th>Unnamed: 0</th>\n",
              "      <th>blurb</th>\n",
              "      <th>state</th>\n",
              "      <th>length</th>\n",
              "      <th>polarity</th>\n",
              "      <th>subjectivity</th>\n",
              "      <th>Topic</th>\n",
              "      <th>catlength</th>\n",
              "    </tr>\n",
              "  </thead>\n",
              "  <tbody>\n",
              "    <tr>\n",
              "      <th>192</th>\n",
              "      <td>193</td>\n",
              "      <td>risky adventure player plays team 3 adventurer...</td>\n",
              "      <td>1</td>\n",
              "      <td>101</td>\n",
              "      <td>0.0</td>\n",
              "      <td>0.0</td>\n",
              "      <td>0</td>\n",
              "      <td>4</td>\n",
              "    </tr>\n",
              "    <tr>\n",
              "      <th>208</th>\n",
              "      <td>209</td>\n",
              "      <td>5x5 rpg map tiles 5th edition roleplaying game...</td>\n",
              "      <td>1</td>\n",
              "      <td>99</td>\n",
              "      <td>0.0</td>\n",
              "      <td>0.0</td>\n",
              "      <td>0</td>\n",
              "      <td>4</td>\n",
              "    </tr>\n",
              "    <tr>\n",
              "      <th>226</th>\n",
              "      <td>227</td>\n",
              "      <td>hank sid fed dilettante theater theyre determi...</td>\n",
              "      <td>1</td>\n",
              "      <td>98</td>\n",
              "      <td>0.0</td>\n",
              "      <td>0.0</td>\n",
              "      <td>3</td>\n",
              "      <td>4</td>\n",
              "    </tr>\n",
              "    <tr>\n",
              "      <th>228</th>\n",
              "      <td>229</td>\n",
              "      <td>airhead beauty transformed vision dancing sing...</td>\n",
              "      <td>1</td>\n",
              "      <td>103</td>\n",
              "      <td>0.0</td>\n",
              "      <td>0.0</td>\n",
              "      <td>3</td>\n",
              "      <td>4</td>\n",
              "    </tr>\n",
              "    <tr>\n",
              "      <th>244</th>\n",
              "      <td>245</td>\n",
              "      <td>three vignettes viewers become privy goingson ...</td>\n",
              "      <td>1</td>\n",
              "      <td>72</td>\n",
              "      <td>0.0</td>\n",
              "      <td>0.0</td>\n",
              "      <td>4</td>\n",
              "      <td>3</td>\n",
              "    </tr>\n",
              "    <tr>\n",
              "      <th>...</th>\n",
              "      <td>...</td>\n",
              "      <td>...</td>\n",
              "      <td>...</td>\n",
              "      <td>...</td>\n",
              "      <td>...</td>\n",
              "      <td>...</td>\n",
              "      <td>...</td>\n",
              "      <td>...</td>\n",
              "    </tr>\n",
              "    <tr>\n",
              "      <th>215148</th>\n",
              "      <td>215149</td>\n",
              "      <td>crew artists scholars im going expedition arct...</td>\n",
              "      <td>1</td>\n",
              "      <td>90</td>\n",
              "      <td>0.0</td>\n",
              "      <td>0.0</td>\n",
              "      <td>6</td>\n",
              "      <td>3</td>\n",
              "    </tr>\n",
              "    <tr>\n",
              "      <th>215149</th>\n",
              "      <td>215150</td>\n",
              "      <td>festival performance time based arts festival ...</td>\n",
              "      <td>1</td>\n",
              "      <td>132</td>\n",
              "      <td>0.0</td>\n",
              "      <td>0.0</td>\n",
              "      <td>3</td>\n",
              "      <td>5</td>\n",
              "    </tr>\n",
              "    <tr>\n",
              "      <th>215152</th>\n",
              "      <td>215153</td>\n",
              "      <td>burning man 2011 created mutant vehicle would ...</td>\n",
              "      <td>1</td>\n",
              "      <td>105</td>\n",
              "      <td>0.0</td>\n",
              "      <td>0.0</td>\n",
              "      <td>3</td>\n",
              "      <td>4</td>\n",
              "    </tr>\n",
              "    <tr>\n",
              "      <th>215155</th>\n",
              "      <td>215156</td>\n",
              "      <td>cities installation jen grabarczyk  nouf aldah...</td>\n",
              "      <td>1</td>\n",
              "      <td>90</td>\n",
              "      <td>0.0</td>\n",
              "      <td>0.0</td>\n",
              "      <td>3</td>\n",
              "      <td>3</td>\n",
              "    </tr>\n",
              "    <tr>\n",
              "      <th>215156</th>\n",
              "      <td>215157</td>\n",
              "      <td>interdisciplinary art project svalbard archipe...</td>\n",
              "      <td>1</td>\n",
              "      <td>75</td>\n",
              "      <td>0.0</td>\n",
              "      <td>0.0</td>\n",
              "      <td>3</td>\n",
              "      <td>3</td>\n",
              "    </tr>\n",
              "  </tbody>\n",
              "</table>\n",
              "<p>22458 rows × 8 columns</p>\n",
              "</div>"
            ],
            "text/plain": [
              "        Unnamed: 0  ... catlength\n",
              "192            193  ...         4\n",
              "208            209  ...         4\n",
              "226            227  ...         4\n",
              "228            229  ...         4\n",
              "244            245  ...         3\n",
              "...            ...  ...       ...\n",
              "215148      215149  ...         3\n",
              "215149      215150  ...         5\n",
              "215152      215153  ...         4\n",
              "215155      215156  ...         3\n",
              "215156      215157  ...         3\n",
              "\n",
              "[22458 rows x 8 columns]"
            ]
          },
          "metadata": {
            "tags": []
          },
          "execution_count": 167
        }
      ]
    },
    {
      "cell_type": "code",
      "metadata": {
        "id": "-Yo60QZASyjx"
      },
      "source": [
        "X = big_kickstarter[['polarity', 'subjectivity','catlength']]\n",
        "y = big_kickstarter['state']"
      ],
      "execution_count": null,
      "outputs": []
    },
    {
      "cell_type": "code",
      "metadata": {
        "id": "YN_ZqrQUTqg9"
      },
      "source": [
        "#75% of data will be used as model training\n",
        "from sklearn.model_selection import train_test_split\n",
        "X_train,X_test,y_train,y_test = train_test_split(X,y,test_size=0.25,random_state=0)"
      ],
      "execution_count": null,
      "outputs": []
    },
    {
      "cell_type": "code",
      "metadata": {
        "id": "D7gzdmO_TvTq"
      },
      "source": [
        "from sklearn.linear_model import LogisticRegression\n",
        "from sklearn import metrics\n",
        "import seaborn as sn\n",
        "import matplotlib.pyplot as plt\n",
        "logistic_regression= LogisticRegression()\n",
        "logistic_regression.fit(X_train,y_train)\n",
        "y_pred=logistic_regression.predict(X_test)"
      ],
      "execution_count": null,
      "outputs": []
    },
    {
      "cell_type": "code",
      "metadata": {
        "colab": {
          "base_uri": "https://localhost:8080/",
          "height": 296
        },
        "id": "vJvJWRYgUEuO",
        "outputId": "b3bfc78f-fe55-43f2-f3fe-3b9dccd1cee7"
      },
      "source": [
        "confusion_matrix = pd.crosstab(y_test, y_pred, rownames=['Actual'], colnames=['Predicted'])\n",
        "sn.heatmap(confusion_matrix, annot=True)"
      ],
      "execution_count": null,
      "outputs": [
        {
          "output_type": "execute_result",
          "data": {
            "text/plain": [
              "<matplotlib.axes._subplots.AxesSubplot at 0x7efe0e786710>"
            ]
          },
          "metadata": {
            "tags": []
          },
          "execution_count": 176
        },
        {
          "output_type": "display_data",
          "data": {
            "image/png": "[encoded data removed]",
            "text/plain": [
              "<Figure size 432x288 with 2 Axes>"
            ]
          },
          "metadata": {
            "tags": [],
            "needs_background": "light"
          }
        }
      ]
    },
    {
      "cell_type": "code",
      "metadata": {
        "colab": {
          "base_uri": "https://localhost:8080/"
        },
        "id": "MisvdWKwUQ52",
        "outputId": "22709540-1149-4e0a-f5e6-117b564121b3"
      },
      "source": [
        "print('Accuracy: ',metrics.accuracy_score(y_test, y_pred))"
      ],
      "execution_count": null,
      "outputs": [
        {
          "output_type": "stream",
          "text": [
            "Accuracy:  0.5183191655221056\n"
          ],
          "name": "stdout"
        }
      ]
    },
    {
      "cell_type": "markdown",
      "metadata": {
        "id": "5p0C5IFcUnX8"
      },
      "source": [
        "RERUNNING THE MODEL WITHOUT CATEGORICAL LENGTH"
      ]
    },
    {
      "cell_type": "code",
      "metadata": {
        "id": "_vNpc9y3Uh96"
      },
      "source": [
        "X = big_kickstarter[['polarity', 'subjectivity']]\n",
        "y = big_kickstarter['state']"
      ],
      "execution_count": null,
      "outputs": []
    },
    {
      "cell_type": "code",
      "metadata": {
        "id": "WCkJZ0KbUpaD"
      },
      "source": [
        "logistic_regression= LogisticRegression()\n",
        "logistic_regression.fit(X_train,y_train)\n",
        "y_pred=logistic_regression.predict(X_test)"
      ],
      "execution_count": null,
      "outputs": []
    },
    {
      "cell_type": "code",
      "metadata": {
        "id": "V9vqup1PUkql"
      },
      "source": [
        "#75% of data will be used as model training\n",
        "from sklearn.model_selection import train_test_split\n",
        "X_train,X_test,y_train,y_test = train_test_split(X,y,test_size=0.25,random_state=0)"
      ],
      "execution_count": null,
      "outputs": []
    },
    {
      "cell_type": "code",
      "metadata": {
        "colab": {
          "base_uri": "https://localhost:8080/",
          "height": 296
        },
        "id": "3KawftoEUrTs",
        "outputId": "60c398fe-b863-45be-b8f7-089259363e55"
      },
      "source": [
        "confusion_matrix = pd.crosstab(y_test, y_pred, rownames=['Actual'], colnames=['Predicted'])\n",
        "sn.heatmap(confusion_matrix, annot=True)"
      ],
      "execution_count": null,
      "outputs": [
        {
          "output_type": "execute_result",
          "data": {
            "text/plain": [
              "<matplotlib.axes._subplots.AxesSubplot at 0x7efe0f867250>"
            ]
          },
          "metadata": {
            "tags": []
          },
          "execution_count": 183
        },
        {
          "output_type": "display_data",
          "data": {
            "image/png": "[encoded data removed]",
            "text/plain": [
              "<Figure size 432x288 with 2 Axes>"
            ]
          },
          "metadata": {
            "tags": [],
            "needs_background": "light"
          }
        }
      ]
    },
    {
      "cell_type": "code",
      "metadata": {
        "colab": {
          "base_uri": "https://localhost:8080/"
        },
        "id": "r9XFjeFMUtgE",
        "outputId": "5a64fe69-b60b-4695-85a1-dfc20b80d954"
      },
      "source": [
        "print('Accuracy: ',metrics.accuracy_score(y_test, y_pred))"
      ],
      "execution_count": null,
      "outputs": [
        {
          "output_type": "stream",
          "text": [
            "Accuracy:  0.5134934481606592\n"
          ],
          "name": "stdout"
        }
      ]
    },
    {
      "cell_type": "markdown",
      "metadata": {
        "id": "2pYhvw7hU7Wg"
      },
      "source": [
        "SUBJECTIVITY"
      ]
    },
    {
      "cell_type": "code",
      "metadata": {
        "id": "g-owCkCOU28C"
      },
      "source": [
        "X = big_kickstarter['subjectivity']\n",
        "y = big_kickstarter['state']"
      ],
      "execution_count": null,
      "outputs": []
    },
    {
      "cell_type": "code",
      "metadata": {
        "id": "NzijlsoTU6Ak"
      },
      "source": [
        "logistic_regression= LogisticRegression()\n",
        "logistic_regression.fit(X_train,y_train)\n",
        "y_pred=logistic_regression.predict(X_test)"
      ],
      "execution_count": null,
      "outputs": []
    },
    {
      "cell_type": "code",
      "metadata": {
        "id": "QjbuVnQHU69J"
      },
      "source": [
        "#75% of data will be used as model training\n",
        "from sklearn.model_selection import train_test_split\n",
        "X_train,X_test,y_train,y_test = train_test_split(X,y,test_size=0.25,random_state=0)"
      ],
      "execution_count": null,
      "outputs": []
    },
    {
      "cell_type": "code",
      "metadata": {
        "colab": {
          "base_uri": "https://localhost:8080/",
          "height": 296
        },
        "id": "rH9NzpKVU9em",
        "outputId": "57c20fa4-bac3-4ca5-8b59-91313c1ee06d"
      },
      "source": [
        "confusion_matrix = pd.crosstab(y_test, y_pred, rownames=['Actual'], colnames=['Predicted'])\n",
        "sn.heatmap(confusion_matrix, annot=True)"
      ],
      "execution_count": null,
      "outputs": [
        {
          "output_type": "execute_result",
          "data": {
            "text/plain": [
              "<matplotlib.axes._subplots.AxesSubplot at 0x7efe0e61b110>"
            ]
          },
          "metadata": {
            "tags": []
          },
          "execution_count": 188
        },
        {
          "output_type": "display_data",
          "data": {
            "image/png": "[encoded data removed]",
            "text/plain": [
              "<Figure size 432x288 with 2 Axes>"
            ]
          },
          "metadata": {
            "tags": [],
            "needs_background": "light"
          }
        }
      ]
    },
    {
      "cell_type": "code",
      "metadata": {
        "colab": {
          "base_uri": "https://localhost:8080/"
        },
        "id": "4O72Bs_vU-Eu",
        "outputId": "31796303-2cf3-4b8b-88a6-6bb54f994c2e"
      },
      "source": [
        "print('Accuracy: ',metrics.accuracy_score(y_test, y_pred))"
      ],
      "execution_count": null,
      "outputs": [
        {
          "output_type": "stream",
          "text": [
            "Accuracy:  0.5134934481606592\n"
          ],
          "name": "stdout"
        }
      ]
    },
    {
      "cell_type": "markdown",
      "metadata": {
        "id": "3qJu4XQuWHn0"
      },
      "source": [
        "# **9. IMPLEMENTING KNN**"
      ]
    },
    {
      "cell_type": "code",
      "metadata": {
        "id": "75D5ElDAWHXU"
      },
      "source": [
        "X = big_kickstarter[['polarity', 'subjectivity']]\n",
        "y = big_kickstarter['state']"
      ],
      "execution_count": null,
      "outputs": []
    },
    {
      "cell_type": "code",
      "metadata": {
        "id": "NBjaWCQuWN5H"
      },
      "source": [
        "from sklearn.model_selection import train_test_split\n",
        "X_train, X_test, y_train, y_test = train_test_split(X, y, test_size=0.20)"
      ],
      "execution_count": null,
      "outputs": []
    },
    {
      "cell_type": "code",
      "metadata": {
        "colab": {
          "base_uri": "https://localhost:8080/"
        },
        "id": "U4P1RDtsWPxP",
        "outputId": "29252ba0-9123-4ef3-e99d-274651951ab2"
      },
      "source": [
        "from sklearn.preprocessing import StandardScaler\n",
        "scaler = StandardScaler()\n",
        "scaler.fit(X_train)"
      ],
      "execution_count": null,
      "outputs": [
        {
          "output_type": "execute_result",
          "data": {
            "text/plain": [
              "StandardScaler(copy=True, with_mean=True, with_std=True)"
            ]
          },
          "metadata": {
            "tags": []
          },
          "execution_count": 199
        }
      ]
    },
    {
      "cell_type": "code",
      "metadata": {
        "id": "37u-KEx6WR4i"
      },
      "source": [
        "X_train = scaler.transform(X_train)\n",
        "X_test = scaler.transform(X_test)"
      ],
      "execution_count": null,
      "outputs": []
    },
    {
      "cell_type": "code",
      "metadata": {
        "colab": {
          "base_uri": "https://localhost:8080/"
        },
        "id": "ARl481oeWSsO",
        "outputId": "ddeb43ee-e34d-4cfb-e84f-00280da20e31"
      },
      "source": [
        "from sklearn.neighbors import KNeighborsClassifier\n",
        "classifier = KNeighborsClassifier(n_neighbors=5, algorithm = \"brute\")\n",
        "classifier.fit(X_train, y_train)"
      ],
      "execution_count": null,
      "outputs": [
        {
          "output_type": "execute_result",
          "data": {
            "text/plain": [
              "KNeighborsClassifier(algorithm='brute', leaf_size=30, metric='minkowski',\n",
              "                     metric_params=None, n_jobs=None, n_neighbors=5, p=2,\n",
              "                     weights='uniform')"
            ]
          },
          "metadata": {
            "tags": []
          },
          "execution_count": 201
        }
      ]
    },
    {
      "cell_type": "code",
      "metadata": {
        "id": "ZVbDd86nWUyV"
      },
      "source": [
        "y_pred = classifier.predict(X_test)"
      ],
      "execution_count": null,
      "outputs": []
    },
    {
      "cell_type": "code",
      "metadata": {
        "colab": {
          "base_uri": "https://localhost:8080/"
        },
        "id": "j0-p4YwFWVpO",
        "outputId": "39dd79f5-35bd-45dc-ed76-e4aaf5beb309"
      },
      "source": [
        "from sklearn.metrics import classification_report, confusion_matrix\n",
        "print(confusion_matrix(y_test, y_pred))\n",
        "print(classification_report(y_test, y_pred))"
      ],
      "execution_count": null,
      "outputs": [
        {
          "output_type": "stream",
          "text": [
            "[[12936  8263]\n",
            " [12837  9066]]\n",
            "              precision    recall  f1-score   support\n",
            "\n",
            "           0       0.50      0.61      0.55     21199\n",
            "           1       0.52      0.41      0.46     21903\n",
            "\n",
            "    accuracy                           0.51     43102\n",
            "   macro avg       0.51      0.51      0.51     43102\n",
            "weighted avg       0.51      0.51      0.51     43102\n",
            "\n"
          ],
          "name": "stdout"
        }
      ]
    },
    {
      "cell_type": "markdown",
      "metadata": {
        "id": "Umsr_lyb08Jh"
      },
      "source": [
        "accuracy = (12936+9066)/total = 51%"
      ]
    },
    {
      "cell_type": "markdown",
      "metadata": {
        "id": "YQVMKjVZdTcm"
      },
      "source": [
        "# **10. IMPLEMENTING NAIVE BAYES**"
      ]
    },
    {
      "cell_type": "code",
      "metadata": {
        "id": "5qhnmS02gjX1",
        "colab": {
          "base_uri": "https://localhost:8080/",
          "height": 204
        },
        "outputId": "b96be9eb-97bb-4189-8103-833e5a63ce8e"
      },
      "source": [
        "big_kickstarter.head()"
      ],
      "execution_count": null,
      "outputs": [
        {
          "output_type": "execute_result",
          "data": {
            "text/html": [
              "<div>\n",
              "<style scoped>\n",
              "    .dataframe tbody tr th:only-of-type {\n",
              "        vertical-align: middle;\n",
              "    }\n",
              "\n",
              "    .dataframe tbody tr th {\n",
              "        vertical-align: top;\n",
              "    }\n",
              "\n",
              "    .dataframe thead th {\n",
              "        text-align: right;\n",
              "    }\n",
              "</style>\n",
              "<table border=\"1\" class=\"dataframe\">\n",
              "  <thead>\n",
              "    <tr style=\"text-align: right;\">\n",
              "      <th></th>\n",
              "      <th>Unnamed: 0</th>\n",
              "      <th>blurb</th>\n",
              "      <th>state</th>\n",
              "      <th>blurb_adjective</th>\n",
              "    </tr>\n",
              "  </thead>\n",
              "  <tbody>\n",
              "    <tr>\n",
              "      <th>0</th>\n",
              "      <td>1</td>\n",
              "      <td>using character users go educational quests ar...</td>\n",
              "      <td>0</td>\n",
              "      <td>using, character, users, go, educational, ques...</td>\n",
              "    </tr>\n",
              "    <tr>\n",
              "      <th>1</th>\n",
              "      <td>2</td>\n",
              "      <td>microfly quadcopter packed wifi 6 sensors 3 pr...</td>\n",
              "      <td>1</td>\n",
              "      <td>microfly, quadcopter, packed, wifi, 6, sensors...</td>\n",
              "    </tr>\n",
              "    <tr>\n",
              "      <th>2</th>\n",
              "      <td>3</td>\n",
              "      <td>small indie press run collective authors want ...</td>\n",
              "      <td>0</td>\n",
              "      <td>small, indie, press, run, collective, authors,...</td>\n",
              "    </tr>\n",
              "    <tr>\n",
              "      <th>3</th>\n",
              "      <td>4</td>\n",
              "      <td>zylor new baby cosplayer back kickstarter help...</td>\n",
              "      <td>0</td>\n",
              "      <td>zylor, new, baby, cosplayer, back, kickstarter...</td>\n",
              "    </tr>\n",
              "    <tr>\n",
              "      <th>4</th>\n",
              "      <td>5</td>\n",
              "      <td>hatoful boyfriend meet skeletons comedy dating...</td>\n",
              "      <td>0</td>\n",
              "      <td>hatoful, boyfriend, meet, skeletons, comedy, d...</td>\n",
              "    </tr>\n",
              "  </tbody>\n",
              "</table>\n",
              "</div>"
            ],
            "text/plain": [
              "   Unnamed: 0  ...                                    blurb_adjective\n",
              "0           1  ...  using, character, users, go, educational, ques...\n",
              "1           2  ...  microfly, quadcopter, packed, wifi, 6, sensors...\n",
              "2           3  ...  small, indie, press, run, collective, authors,...\n",
              "3           4  ...  zylor, new, baby, cosplayer, back, kickstarter...\n",
              "4           5  ...  hatoful, boyfriend, meet, skeletons, comedy, d...\n",
              "\n",
              "[5 rows x 4 columns]"
            ]
          },
          "metadata": {
            "tags": []
          },
          "execution_count": 22
        }
      ]
    },
    {
      "cell_type": "code",
      "metadata": {
        "id": "dqUJOvwOM1jm"
      },
      "source": [
        "# define X - predictor and y - label\n",
        "X = big_kickstarter.blurb\n",
        "y = big_kickstarter.state"
      ],
      "execution_count": null,
      "outputs": []
    },
    {
      "cell_type": "code",
      "metadata": {
        "id": "3bYfqMxMNDRo"
      },
      "source": [
        "# split X and y into training and testing sets\n",
        "from sklearn.model_selection import train_test_split\n",
        "X_train, X_test, y_train, y_test = train_test_split(X, y, random_state=1)"
      ],
      "execution_count": null,
      "outputs": []
    },
    {
      "cell_type": "code",
      "metadata": {
        "id": "KQQGIHvdNGsV",
        "colab": {
          "base_uri": "https://localhost:8080/"
        },
        "outputId": "76c409a0-701a-49b7-e47f-c2b51637edc8"
      },
      "source": [
        "#inspect the training and testing data\n",
        "print(X_train.shape)\n",
        "print(X_test.shape)\n",
        "print(y_train.shape)\n",
        "print(y_test.shape)"
      ],
      "execution_count": null,
      "outputs": [
        {
          "output_type": "stream",
          "text": [
            "(161634,)\n",
            "(53879,)\n",
            "(161634,)\n",
            "(53879,)\n"
          ],
          "name": "stdout"
        }
      ]
    },
    {
      "cell_type": "code",
      "metadata": {
        "id": "OAO3LwrXNOwq"
      },
      "source": [
        "from sklearn.feature_extraction.text import CountVectorizer\n",
        "vect = CountVectorizer()"
      ],
      "execution_count": null,
      "outputs": []
    },
    {
      "cell_type": "code",
      "metadata": {
        "id": "tkyZGejtNRra",
        "colab": {
          "base_uri": "https://localhost:8080/"
        },
        "outputId": "998108c7-48da-430b-8047-b91fb30f0121"
      },
      "source": [
        "# fit and transform X_train into X_train_dtm\n",
        "X_train_dtm = vect.fit_transform(X_train)\n",
        "X_train_dtm.shape"
      ],
      "execution_count": null,
      "outputs": [
        {
          "output_type": "execute_result",
          "data": {
            "text/plain": [
              "(161634, 110387)"
            ]
          },
          "metadata": {
            "tags": []
          },
          "execution_count": 28
        }
      ]
    },
    {
      "cell_type": "code",
      "metadata": {
        "id": "HWcag-qANUp0",
        "colab": {
          "base_uri": "https://localhost:8080/"
        },
        "outputId": "73dd5413-bc5a-4836-9653-bbf8ab4d82a9"
      },
      "source": [
        "# transform X_test into X_test_dtm\n",
        "X_test_dtm = vect.transform(X_test)\n",
        "X_test_dtm.shape"
      ],
      "execution_count": null,
      "outputs": [
        {
          "output_type": "execute_result",
          "data": {
            "text/plain": [
              "(53879, 110387)"
            ]
          },
          "metadata": {
            "tags": []
          },
          "execution_count": 29
        }
      ]
    },
    {
      "cell_type": "code",
      "metadata": {
        "id": "KV41365lNWGc"
      },
      "source": [
        "# import and instantiate MultinomialNB\n",
        "from sklearn.naive_bayes import MultinomialNB\n",
        "nb = MultinomialNB()"
      ],
      "execution_count": null,
      "outputs": []
    },
    {
      "cell_type": "code",
      "metadata": {
        "id": "fjRJQonRNZEK",
        "colab": {
          "base_uri": "https://localhost:8080/"
        },
        "outputId": "a8871849-f7ac-42d4-af78-c91aba429fc1"
      },
      "source": [
        "# train the model using X_train_dtm\n",
        "nb.fit(X_train_dtm, y_train)"
      ],
      "execution_count": null,
      "outputs": [
        {
          "output_type": "execute_result",
          "data": {
            "text/plain": [
              "MultinomialNB(alpha=1.0, class_prior=None, fit_prior=True)"
            ]
          },
          "metadata": {
            "tags": []
          },
          "execution_count": 48
        }
      ]
    },
    {
      "cell_type": "code",
      "metadata": {
        "id": "lgh8lipnNckz"
      },
      "source": [
        "# make class predictions for X_test_dtm\n",
        "y_pred_class = nb.predict(X_test_dtm)"
      ],
      "execution_count": null,
      "outputs": []
    },
    {
      "cell_type": "code",
      "metadata": {
        "id": "Vjq3-7h4Nf_c",
        "colab": {
          "base_uri": "https://localhost:8080/"
        },
        "outputId": "107a5522-113a-4777-ebb9-ed76d31ae972"
      },
      "source": [
        "# calculate accuracy score of class predictions\n",
        "from sklearn import metrics\n",
        "metrics.accuracy_score(y_test, y_pred_class)"
      ],
      "execution_count": null,
      "outputs": [
        {
          "output_type": "execute_result",
          "data": {
            "text/plain": [
              "0.6673657640268008"
            ]
          },
          "metadata": {
            "tags": []
          },
          "execution_count": 50
        }
      ]
    },
    {
      "cell_type": "code",
      "metadata": {
        "id": "GzY00UXmNi90",
        "colab": {
          "base_uri": "https://localhost:8080/"
        },
        "outputId": "c4948e60-5b08-4a10-e068-456d491c2034"
      },
      "source": [
        "# print the confusion matrix\n",
        "# TP FN\n",
        "# FP TN\n",
        "\n",
        "#True P or N - Guessed correctly\n",
        "#False P or N - Guessed wrong, and it's the other result\n",
        "\n",
        "\n",
        "\n",
        "metrics.confusion_matrix(y_test, y_pred_class)"
      ],
      "execution_count": null,
      "outputs": [
        {
          "output_type": "execute_result",
          "data": {
            "text/plain": [
              "array([[17904,  8968],\n",
              "       [ 8954, 18053]])"
            ]
          },
          "metadata": {
            "tags": []
          },
          "execution_count": 35
        }
      ]
    },
    {
      "cell_type": "code",
      "metadata": {
        "id": "z4jy2EZeOt5r",
        "colab": {
          "base_uri": "https://localhost:8080/"
        },
        "outputId": "4dd025f3-e5c1-4c96-c5f9-a04a0d24e4c6"
      },
      "source": [
        "#Precision Score\n",
        "from sklearn.metrics import precision_score\n",
        "precision_score(y_test, y_pred_class)"
      ],
      "execution_count": null,
      "outputs": [
        {
          "output_type": "execute_result",
          "data": {
            "text/plain": [
              "0.6681099885274416"
            ]
          },
          "metadata": {
            "tags": []
          },
          "execution_count": 51
        }
      ]
    }
  ]
}